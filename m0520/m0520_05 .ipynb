{
 "cells": [
  {
   "cell_type": "markdown",
   "metadata": {},
   "source": [
    "# 정규표현식"
   ]
  },
  {
   "cell_type": "markdown",
   "metadata": {},
   "source": [
    ".   > 한글자 취급"
   ]
  },
  {
   "cell_type": "code",
   "execution_count": 2,
   "metadata": {},
   "outputs": [
    {
     "name": "stdout",
     "output_type": "stream",
     "text": [
      "매칭되지 않았습니다.\n"
     ]
    }
   ],
   "source": [
    "# 정규표현식\n",
    "# 데이터를 입력받아, 길이가 6자리, 첫글자 a가 입력되면 <제대로 입력되었습니다.> 아니면 <다시 입력하세요>\n",
    "import re\n",
    "\n",
    "p = re.compile('ca.e')  # 정규표현식을 지정\n",
    "word = 'cafe'\n",
    "word2 = 'care'\n",
    "word3 = 'cark'\n",
    "\n",
    "if p.match(word3):\n",
    "    print('매칭이 되었습니다.')\n",
    "else:\n",
    "    print('매칭되지 않았습니다.')\n",
    " "
   ]
  },
  {
   "cell_type": "markdown",
   "metadata": {},
   "source": [
    "^de는 de로 시작하는 문자여야함.(중간은 안 됨)"
   ]
  },
  {
   "cell_type": "code",
   "execution_count": 6,
   "metadata": {},
   "outputs": [
    {
     "name": "stdout",
     "output_type": "stream",
     "text": [
      "매칭되었습니다. desk 입니다\n"
     ]
    }
   ],
   "source": [
    "word = 'desk 입니다'\n",
    "if re.match(r'^de',word):\n",
    "    print('매칭되었습니다.',word)\n",
    "else:\n",
    "    print('매칭되지 않았습니다.')"
   ]
  },
  {
   "cell_type": "markdown",
   "metadata": {},
   "source": [
    "se$는 se로 끝나는 문자여야 함.(중간 안 됨)  re.search()"
   ]
  },
  {
   "cell_type": "code",
   "execution_count": 17,
   "metadata": {},
   "outputs": [
    {
     "name": "stdout",
     "output_type": "stream",
     "text": [
      "매칭되었습니다. caasdsadsesdse\n"
     ]
    }
   ],
   "source": [
    "word = 'caasdsadsesdse'\n",
    "# p = re.compile('se$')\n",
    "if re.search(r'se$',word):\n",
    "    print('매칭되었습니다.',word)\n",
    "else:\n",
    "    print('매칭되지 않았습니다.')"
   ]
  },
  {
   "cell_type": "code",
   "execution_count": 34,
   "metadata": {},
   "outputs": [
    {
     "name": "stdout",
     "output_type": "stream",
     "text": [
      "매칭되었습니다. a1c34f\n"
     ]
    }
   ],
   "source": [
    "word = 'a1c34f'\n",
    " # {3} : 3자리가 들어와야 True.        {2,3} : 2~3자리가 들어와야 True.\n",
    " # ㄱ-ㅎ가-힣 : 국문 가능\n",
    " # [ ] : [] 안에 있는 글자만 True.      a-z : 소문자 알파벳 전부  /  0-9 : 0에서 9까지  /  A-Z : 대문자 알파벳 전부\n",
    " \n",
    "if re.match(r'^a{1}[a-z0-9]{5}$', word): # 첫글자가 a이면서 영문 소문자, 숫자, 5자리만 가능함\n",
    "    print('매칭되었습니다.',word)\n",
    "else:\n",
    "    print('매칭되지 않았습니다.')"
   ]
  },
  {
   "cell_type": "markdown",
   "metadata": {},
   "source": [
    "#### 전화번호 예시"
   ]
  },
  {
   "cell_type": "code",
   "execution_count": 36,
   "metadata": {},
   "outputs": [
    {
     "name": "stdout",
     "output_type": "stream",
     "text": [
      "매칭되었습니다. 010-1234-1234\n"
     ]
    }
   ],
   "source": [
    "word = '010-1234-1234'\n",
    "if re.search('[0-9]{2,3}-[0-9]{4}-[0-9]{4}',word):\n",
    "    print('매칭되었습니다.',word)\n",
    "else:\n",
    "    print('매칭되지 않았습니다.')"
   ]
  },
  {
   "cell_type": "code",
   "execution_count": null,
   "metadata": {},
   "outputs": [],
   "source": [
    "# while True:\n",
    "#     a = input('6자리를 입력하세요.')\n",
    "#     if a[0]=='a' and len(a) == 6: \n",
    "#         print('제대로 입력되었습니다.') \n",
    "#         break\n",
    "#     else : print('다시 입력하세요')"
   ]
  },
  {
   "cell_type": "code",
   "execution_count": 37,
   "metadata": {},
   "outputs": [],
   "source": [
    "# while True:\n",
    "#     a = input('6자리를 입력하세요.')\n",
    "#     if not a.isdigit():\n",
    "#         print('숫자만 입력하세요')\n",
    "#         a = int(a)\n",
    "#         continue\n",
    "        \n",
    "#     if a[0]=='1' and len(a) == 6: \n",
    "#         print('제대로 입력되었습니다.') \n",
    "#         break\n",
    "    \n",
    "#     else : print('다시 입력하세요')"
   ]
  },
  {
   "cell_type": "code",
   "execution_count": 15,
   "metadata": {},
   "outputs": [
    {
     "data": {
      "text/plain": [
       "123.45"
      ]
     },
     "execution_count": 15,
     "metadata": {},
     "output_type": "execute_result"
    }
   ],
   "source": []
  }
 ],
 "metadata": {
  "kernelspec": {
   "display_name": "Python 3",
   "language": "python",
   "name": "python3"
  },
  "language_info": {
   "codemirror_mode": {
    "name": "ipython",
    "version": 3
   },
   "file_extension": ".py",
   "mimetype": "text/x-python",
   "name": "python",
   "nbconvert_exporter": "python",
   "pygments_lexer": "ipython3",
   "version": "3.12.0"
  }
 },
 "nbformat": 4,
 "nbformat_minor": 2
}
