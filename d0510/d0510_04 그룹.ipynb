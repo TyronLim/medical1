{
 "cells": [
  {
   "cell_type": "code",
   "execution_count": 1,
   "metadata": {},
   "outputs": [
    {
     "data": {
      "text/html": [
       "<div>\n",
       "<style scoped>\n",
       "    .dataframe tbody tr th:only-of-type {\n",
       "        vertical-align: middle;\n",
       "    }\n",
       "\n",
       "    .dataframe tbody tr th {\n",
       "        vertical-align: top;\n",
       "    }\n",
       "\n",
       "    .dataframe thead th {\n",
       "        text-align: right;\n",
       "    }\n",
       "</style>\n",
       "<table border=\"1\" class=\"dataframe\">\n",
       "  <thead>\n",
       "    <tr style=\"text-align: right;\">\n",
       "      <th></th>\n",
       "      <th>이름</th>\n",
       "      <th>학교</th>\n",
       "      <th>키</th>\n",
       "      <th>국어</th>\n",
       "      <th>영어</th>\n",
       "      <th>수학</th>\n",
       "      <th>과학</th>\n",
       "      <th>사회</th>\n",
       "      <th>SW특기</th>\n",
       "    </tr>\n",
       "    <tr>\n",
       "      <th>지원번호</th>\n",
       "      <th></th>\n",
       "      <th></th>\n",
       "      <th></th>\n",
       "      <th></th>\n",
       "      <th></th>\n",
       "      <th></th>\n",
       "      <th></th>\n",
       "      <th></th>\n",
       "      <th></th>\n",
       "    </tr>\n",
       "  </thead>\n",
       "  <tbody>\n",
       "    <tr>\n",
       "      <th>1번</th>\n",
       "      <td>강나래</td>\n",
       "      <td>구로고</td>\n",
       "      <td>197</td>\n",
       "      <td>90</td>\n",
       "      <td>85</td>\n",
       "      <td>100</td>\n",
       "      <td>95</td>\n",
       "      <td>85</td>\n",
       "      <td>Python</td>\n",
       "    </tr>\n",
       "    <tr>\n",
       "      <th>2번</th>\n",
       "      <td>강태원</td>\n",
       "      <td>구로고</td>\n",
       "      <td>184</td>\n",
       "      <td>40</td>\n",
       "      <td>35</td>\n",
       "      <td>50</td>\n",
       "      <td>55</td>\n",
       "      <td>25</td>\n",
       "      <td>Java</td>\n",
       "    </tr>\n",
       "    <tr>\n",
       "      <th>3번</th>\n",
       "      <td>강호림</td>\n",
       "      <td>구로고</td>\n",
       "      <td>168</td>\n",
       "      <td>80</td>\n",
       "      <td>75</td>\n",
       "      <td>70</td>\n",
       "      <td>80</td>\n",
       "      <td>75</td>\n",
       "      <td>javascript</td>\n",
       "    </tr>\n",
       "    <tr>\n",
       "      <th>4번</th>\n",
       "      <td>김수찬</td>\n",
       "      <td>구로고</td>\n",
       "      <td>187</td>\n",
       "      <td>40</td>\n",
       "      <td>60</td>\n",
       "      <td>70</td>\n",
       "      <td>75</td>\n",
       "      <td>80</td>\n",
       "      <td>NaN</td>\n",
       "    </tr>\n",
       "    <tr>\n",
       "      <th>5번</th>\n",
       "      <td>김재욱</td>\n",
       "      <td>구로고</td>\n",
       "      <td>188</td>\n",
       "      <td>15</td>\n",
       "      <td>20</td>\n",
       "      <td>10</td>\n",
       "      <td>35</td>\n",
       "      <td>10</td>\n",
       "      <td>NaN</td>\n",
       "    </tr>\n",
       "    <tr>\n",
       "      <th>6번</th>\n",
       "      <td>박동현</td>\n",
       "      <td>단지고</td>\n",
       "      <td>202</td>\n",
       "      <td>80</td>\n",
       "      <td>100</td>\n",
       "      <td>95</td>\n",
       "      <td>85</td>\n",
       "      <td>80</td>\n",
       "      <td>C</td>\n",
       "    </tr>\n",
       "    <tr>\n",
       "      <th>7번</th>\n",
       "      <td>박혜정</td>\n",
       "      <td>단지고</td>\n",
       "      <td>188</td>\n",
       "      <td>55</td>\n",
       "      <td>65</td>\n",
       "      <td>45</td>\n",
       "      <td>40</td>\n",
       "      <td>35</td>\n",
       "      <td>PYTHON</td>\n",
       "    </tr>\n",
       "    <tr>\n",
       "      <th>8번</th>\n",
       "      <td>승근열</td>\n",
       "      <td>단지고</td>\n",
       "      <td>190</td>\n",
       "      <td>100</td>\n",
       "      <td>85</td>\n",
       "      <td>90</td>\n",
       "      <td>95</td>\n",
       "      <td>95</td>\n",
       "      <td>c#</td>\n",
       "    </tr>\n",
       "  </tbody>\n",
       "</table>\n",
       "</div>"
      ],
      "text/plain": [
       "       이름   학교    키   국어   영어   수학  과학  사회        SW특기\n",
       "지원번호                                                  \n",
       "1번    강나래  구로고  197   90   85  100  95  85      Python\n",
       "2번    강태원  구로고  184   40   35   50  55  25        Java\n",
       "3번    강호림  구로고  168   80   75   70  80  75  javascript\n",
       "4번    김수찬  구로고  187   40   60   70  75  80         NaN\n",
       "5번    김재욱  구로고  188   15   20   10  35  10         NaN\n",
       "6번    박동현  단지고  202   80  100   95  85  80           C\n",
       "7번    박혜정  단지고  188   55   65   45  40  35      PYTHON\n",
       "8번    승근열  단지고  190  100   85   90  95  95          c#"
      ]
     },
     "execution_count": 1,
     "metadata": {},
     "output_type": "execute_result"
    }
   ],
   "source": [
    "import pandas as pd\n",
    "df = pd.read_excel('../z20_data/score.xlsx',index_col = '지원번호')\n",
    "df"
   ]
  },
  {
   "cell_type": "markdown",
   "metadata": {},
   "source": [
    "# groupby - 그룹화"
   ]
  },
  {
   "cell_type": "code",
   "execution_count": 6,
   "metadata": {},
   "outputs": [
    {
     "data": {
      "text/plain": [
       "<pandas.core.groupby.generic.DataFrameGroupBy object at 0x000002108CBD6750>"
      ]
     },
     "execution_count": 6,
     "metadata": {},
     "output_type": "execute_result"
    }
   ],
   "source": [
    "df.groupby('학교')      # 구로고, 단지고"
   ]
  },
  {
   "cell_type": "code",
   "execution_count": 9,
   "metadata": {},
   "outputs": [
    {
     "data": {
      "text/html": [
       "<div>\n",
       "<style scoped>\n",
       "    .dataframe tbody tr th:only-of-type {\n",
       "        vertical-align: middle;\n",
       "    }\n",
       "\n",
       "    .dataframe tbody tr th {\n",
       "        vertical-align: top;\n",
       "    }\n",
       "\n",
       "    .dataframe thead th {\n",
       "        text-align: right;\n",
       "    }\n",
       "</style>\n",
       "<table border=\"1\" class=\"dataframe\">\n",
       "  <thead>\n",
       "    <tr style=\"text-align: right;\">\n",
       "      <th></th>\n",
       "      <th>이름</th>\n",
       "      <th>학교</th>\n",
       "      <th>키</th>\n",
       "      <th>국어</th>\n",
       "      <th>영어</th>\n",
       "      <th>수학</th>\n",
       "      <th>과학</th>\n",
       "      <th>사회</th>\n",
       "      <th>SW특기</th>\n",
       "    </tr>\n",
       "    <tr>\n",
       "      <th>지원번호</th>\n",
       "      <th></th>\n",
       "      <th></th>\n",
       "      <th></th>\n",
       "      <th></th>\n",
       "      <th></th>\n",
       "      <th></th>\n",
       "      <th></th>\n",
       "      <th></th>\n",
       "      <th></th>\n",
       "    </tr>\n",
       "  </thead>\n",
       "  <tbody>\n",
       "    <tr>\n",
       "      <th>6번</th>\n",
       "      <td>박동현</td>\n",
       "      <td>단지고</td>\n",
       "      <td>202</td>\n",
       "      <td>80</td>\n",
       "      <td>100</td>\n",
       "      <td>95</td>\n",
       "      <td>85</td>\n",
       "      <td>80</td>\n",
       "      <td>C</td>\n",
       "    </tr>\n",
       "    <tr>\n",
       "      <th>7번</th>\n",
       "      <td>박혜정</td>\n",
       "      <td>단지고</td>\n",
       "      <td>188</td>\n",
       "      <td>55</td>\n",
       "      <td>65</td>\n",
       "      <td>45</td>\n",
       "      <td>40</td>\n",
       "      <td>35</td>\n",
       "      <td>PYTHON</td>\n",
       "    </tr>\n",
       "    <tr>\n",
       "      <th>8번</th>\n",
       "      <td>승근열</td>\n",
       "      <td>단지고</td>\n",
       "      <td>190</td>\n",
       "      <td>100</td>\n",
       "      <td>85</td>\n",
       "      <td>90</td>\n",
       "      <td>95</td>\n",
       "      <td>95</td>\n",
       "      <td>c#</td>\n",
       "    </tr>\n",
       "  </tbody>\n",
       "</table>\n",
       "</div>"
      ],
      "text/plain": [
       "       이름   학교    키   국어   영어  수학  과학  사회    SW특기\n",
       "지원번호                                             \n",
       "6번    박동현  단지고  202   80  100  95  85  80       C\n",
       "7번    박혜정  단지고  188   55   65  45  40  35  PYTHON\n",
       "8번    승근열  단지고  190  100   85  90  95  95      c#"
      ]
     },
     "execution_count": 9,
     "metadata": {},
     "output_type": "execute_result"
    }
   ],
   "source": [
    "df.groupby('학교').get_group('구로고')\n",
    "df.groupby('학교').get_group('단지고')"
   ]
  },
  {
   "cell_type": "markdown",
   "metadata": {},
   "source": [
    "#### 학교별 행 개수   groupby(\"학교\").size()     > 숫자 리턴"
   ]
  },
  {
   "cell_type": "code",
   "execution_count": 14,
   "metadata": {},
   "outputs": [
    {
     "data": {
      "text/plain": [
       "학교\n",
       "구로고    5\n",
       "단지고    3\n",
       "dtype: int64"
      ]
     },
     "execution_count": 14,
     "metadata": {},
     "output_type": "execute_result"
    }
   ],
   "source": [
    "df.groupby('학교').size()"
   ]
  },
  {
   "cell_type": "code",
   "execution_count": 17,
   "metadata": {},
   "outputs": [
    {
     "data": {
      "text/plain": [
       "3"
      ]
     },
     "execution_count": 17,
     "metadata": {},
     "output_type": "execute_result"
    }
   ],
   "source": [
    "df.groupby('학교').size()['구로고']\n",
    "df.groupby('학교').size()['단지고']"
   ]
  },
  {
   "cell_type": "code",
   "execution_count": 20,
   "metadata": {},
   "outputs": [
    {
     "data": {
      "text/plain": [
       "188.0"
      ]
     },
     "execution_count": 20,
     "metadata": {},
     "output_type": "execute_result"
    }
   ],
   "source": [
    "# 전체 평균\n",
    "df['키'].mean()"
   ]
  },
  {
   "cell_type": "code",
   "execution_count": 21,
   "metadata": {},
   "outputs": [
    {
     "data": {
      "text/plain": [
       "학교\n",
       "구로고    184.800000\n",
       "단지고    193.333333\n",
       "Name: 키, dtype: float64"
      ]
     },
     "execution_count": 21,
     "metadata": {},
     "output_type": "execute_result"
    }
   ],
   "source": [
    "# 부분 평균\n",
    "df.groupby('학교')['키'].mean()"
   ]
  },
  {
   "cell_type": "code",
   "execution_count": 25,
   "metadata": {},
   "outputs": [
    {
     "data": {
      "text/html": [
       "<div>\n",
       "<style scoped>\n",
       "    .dataframe tbody tr th:only-of-type {\n",
       "        vertical-align: middle;\n",
       "    }\n",
       "\n",
       "    .dataframe tbody tr th {\n",
       "        vertical-align: top;\n",
       "    }\n",
       "\n",
       "    .dataframe thead th {\n",
       "        text-align: right;\n",
       "    }\n",
       "</style>\n",
       "<table border=\"1\" class=\"dataframe\">\n",
       "  <thead>\n",
       "    <tr style=\"text-align: right;\">\n",
       "      <th></th>\n",
       "      <th>키</th>\n",
       "      <th>국어</th>\n",
       "      <th>영어</th>\n",
       "      <th>수학</th>\n",
       "      <th>과학</th>\n",
       "      <th>사회</th>\n",
       "    </tr>\n",
       "    <tr>\n",
       "      <th>학교</th>\n",
       "      <th></th>\n",
       "      <th></th>\n",
       "      <th></th>\n",
       "      <th></th>\n",
       "      <th></th>\n",
       "      <th></th>\n",
       "    </tr>\n",
       "  </thead>\n",
       "  <tbody>\n",
       "    <tr>\n",
       "      <th>구로고</th>\n",
       "      <td>197</td>\n",
       "      <td>90</td>\n",
       "      <td>85</td>\n",
       "      <td>100</td>\n",
       "      <td>95</td>\n",
       "      <td>85</td>\n",
       "    </tr>\n",
       "    <tr>\n",
       "      <th>단지고</th>\n",
       "      <td>202</td>\n",
       "      <td>100</td>\n",
       "      <td>100</td>\n",
       "      <td>95</td>\n",
       "      <td>95</td>\n",
       "      <td>95</td>\n",
       "    </tr>\n",
       "  </tbody>\n",
       "</table>\n",
       "</div>"
      ],
      "text/plain": [
       "       키   국어   영어   수학  과학  사회\n",
       "학교                             \n",
       "구로고  197   90   85  100  95  85\n",
       "단지고  202  100  100   95  95  95"
      ]
     },
     "execution_count": 25,
     "metadata": {},
     "output_type": "execute_result"
    }
   ],
   "source": [
    "df.groupby('학교')[['키','국어','영어','수학','과학','사회']].mean()\n",
    "df.groupby('학교')[['키','국어','영어','수학','과학','사회']].sum()\n",
    "df.groupby('학교')[['키','국어','영어','수학','과학','사회']].min()\n",
    "df.groupby('학교')[['키','국어','영어','수학','과학','사회']].max()"
   ]
  },
  {
   "cell_type": "code",
   "execution_count": 26,
   "metadata": {},
   "outputs": [],
   "source": [
    "df['학년'] = [3,3,2,1,1,3,2,2]"
   ]
  },
  {
   "cell_type": "code",
   "execution_count": 34,
   "metadata": {},
   "outputs": [
    {
     "data": {
      "text/html": [
       "<div>\n",
       "<style scoped>\n",
       "    .dataframe tbody tr th:only-of-type {\n",
       "        vertical-align: middle;\n",
       "    }\n",
       "\n",
       "    .dataframe tbody tr th {\n",
       "        vertical-align: top;\n",
       "    }\n",
       "\n",
       "    .dataframe thead th {\n",
       "        text-align: right;\n",
       "    }\n",
       "</style>\n",
       "<table border=\"1\" class=\"dataframe\">\n",
       "  <thead>\n",
       "    <tr style=\"text-align: right;\">\n",
       "      <th></th>\n",
       "      <th>이름</th>\n",
       "      <th>학교</th>\n",
       "      <th>학년</th>\n",
       "      <th>키</th>\n",
       "      <th>국어</th>\n",
       "      <th>영어</th>\n",
       "      <th>수학</th>\n",
       "      <th>과학</th>\n",
       "      <th>사회</th>\n",
       "      <th>SW특기</th>\n",
       "    </tr>\n",
       "    <tr>\n",
       "      <th>지원번호</th>\n",
       "      <th></th>\n",
       "      <th></th>\n",
       "      <th></th>\n",
       "      <th></th>\n",
       "      <th></th>\n",
       "      <th></th>\n",
       "      <th></th>\n",
       "      <th></th>\n",
       "      <th></th>\n",
       "      <th></th>\n",
       "    </tr>\n",
       "  </thead>\n",
       "  <tbody>\n",
       "    <tr>\n",
       "      <th>1번</th>\n",
       "      <td>강나래</td>\n",
       "      <td>구로고</td>\n",
       "      <td>3</td>\n",
       "      <td>197</td>\n",
       "      <td>90</td>\n",
       "      <td>85</td>\n",
       "      <td>100</td>\n",
       "      <td>95</td>\n",
       "      <td>85</td>\n",
       "      <td>Python</td>\n",
       "    </tr>\n",
       "    <tr>\n",
       "      <th>2번</th>\n",
       "      <td>강태원</td>\n",
       "      <td>구로고</td>\n",
       "      <td>3</td>\n",
       "      <td>184</td>\n",
       "      <td>40</td>\n",
       "      <td>35</td>\n",
       "      <td>50</td>\n",
       "      <td>55</td>\n",
       "      <td>25</td>\n",
       "      <td>Java</td>\n",
       "    </tr>\n",
       "    <tr>\n",
       "      <th>3번</th>\n",
       "      <td>강호림</td>\n",
       "      <td>구로고</td>\n",
       "      <td>2</td>\n",
       "      <td>168</td>\n",
       "      <td>80</td>\n",
       "      <td>75</td>\n",
       "      <td>70</td>\n",
       "      <td>80</td>\n",
       "      <td>75</td>\n",
       "      <td>javascript</td>\n",
       "    </tr>\n",
       "    <tr>\n",
       "      <th>4번</th>\n",
       "      <td>김수찬</td>\n",
       "      <td>구로고</td>\n",
       "      <td>1</td>\n",
       "      <td>187</td>\n",
       "      <td>40</td>\n",
       "      <td>60</td>\n",
       "      <td>70</td>\n",
       "      <td>75</td>\n",
       "      <td>80</td>\n",
       "      <td>NaN</td>\n",
       "    </tr>\n",
       "    <tr>\n",
       "      <th>5번</th>\n",
       "      <td>김재욱</td>\n",
       "      <td>구로고</td>\n",
       "      <td>1</td>\n",
       "      <td>188</td>\n",
       "      <td>15</td>\n",
       "      <td>20</td>\n",
       "      <td>10</td>\n",
       "      <td>35</td>\n",
       "      <td>10</td>\n",
       "      <td>NaN</td>\n",
       "    </tr>\n",
       "    <tr>\n",
       "      <th>6번</th>\n",
       "      <td>박동현</td>\n",
       "      <td>단지고</td>\n",
       "      <td>3</td>\n",
       "      <td>202</td>\n",
       "      <td>80</td>\n",
       "      <td>100</td>\n",
       "      <td>95</td>\n",
       "      <td>85</td>\n",
       "      <td>80</td>\n",
       "      <td>C</td>\n",
       "    </tr>\n",
       "    <tr>\n",
       "      <th>7번</th>\n",
       "      <td>박혜정</td>\n",
       "      <td>단지고</td>\n",
       "      <td>2</td>\n",
       "      <td>188</td>\n",
       "      <td>55</td>\n",
       "      <td>65</td>\n",
       "      <td>45</td>\n",
       "      <td>40</td>\n",
       "      <td>35</td>\n",
       "      <td>PYTHON</td>\n",
       "    </tr>\n",
       "    <tr>\n",
       "      <th>8번</th>\n",
       "      <td>승근열</td>\n",
       "      <td>단지고</td>\n",
       "      <td>2</td>\n",
       "      <td>190</td>\n",
       "      <td>100</td>\n",
       "      <td>85</td>\n",
       "      <td>90</td>\n",
       "      <td>95</td>\n",
       "      <td>95</td>\n",
       "      <td>c#</td>\n",
       "    </tr>\n",
       "  </tbody>\n",
       "</table>\n",
       "</div>"
      ],
      "text/plain": [
       "       이름   학교  학년    키   국어   영어   수학  과학  사회        SW특기\n",
       "지원번호                                                      \n",
       "1번    강나래  구로고   3  197   90   85  100  95  85      Python\n",
       "2번    강태원  구로고   3  184   40   35   50  55  25        Java\n",
       "3번    강호림  구로고   2  168   80   75   70  80  75  javascript\n",
       "4번    김수찬  구로고   1  187   40   60   70  75  80         NaN\n",
       "5번    김재욱  구로고   1  188   15   20   10  35  10         NaN\n",
       "6번    박동현  단지고   3  202   80  100   95  85  80           C\n",
       "7번    박혜정  단지고   2  188   55   65   45  40  35      PYTHON\n",
       "8번    승근열  단지고   2  190  100   85   90  95  95          c#"
      ]
     },
     "execution_count": 34,
     "metadata": {},
     "output_type": "execute_result"
    }
   ],
   "source": [
    "a = list(df.columns)\n",
    "a\n",
    "df = df[a[0:2]+[a[-1]]+a[2:-1]]\n",
    "df\n"
   ]
  },
  {
   "cell_type": "markdown",
   "metadata": {},
   "source": [
    "#### 파일 저장"
   ]
  },
  {
   "cell_type": "code",
   "execution_count": 38,
   "metadata": {},
   "outputs": [],
   "source": [
    "# df.to_csv('../z20_data/score.csv',encoding='utf-8-sig')\n",
    "# df.to_csv('../z20_data/score.txt',encoding='utf-8')\n",
    "# df.to_excel('../z20_data/score.xlsx')"
   ]
  },
  {
   "cell_type": "code",
   "execution_count": 39,
   "metadata": {},
   "outputs": [
    {
     "data": {
      "text/html": [
       "<div>\n",
       "<style scoped>\n",
       "    .dataframe tbody tr th:only-of-type {\n",
       "        vertical-align: middle;\n",
       "    }\n",
       "\n",
       "    .dataframe tbody tr th {\n",
       "        vertical-align: top;\n",
       "    }\n",
       "\n",
       "    .dataframe thead th {\n",
       "        text-align: right;\n",
       "    }\n",
       "</style>\n",
       "<table border=\"1\" class=\"dataframe\">\n",
       "  <thead>\n",
       "    <tr style=\"text-align: right;\">\n",
       "      <th></th>\n",
       "      <th>이름</th>\n",
       "      <th>학교</th>\n",
       "      <th>학년</th>\n",
       "      <th>키</th>\n",
       "      <th>국어</th>\n",
       "      <th>영어</th>\n",
       "      <th>수학</th>\n",
       "      <th>과학</th>\n",
       "      <th>사회</th>\n",
       "      <th>SW특기</th>\n",
       "    </tr>\n",
       "    <tr>\n",
       "      <th>지원번호</th>\n",
       "      <th></th>\n",
       "      <th></th>\n",
       "      <th></th>\n",
       "      <th></th>\n",
       "      <th></th>\n",
       "      <th></th>\n",
       "      <th></th>\n",
       "      <th></th>\n",
       "      <th></th>\n",
       "      <th></th>\n",
       "    </tr>\n",
       "  </thead>\n",
       "  <tbody>\n",
       "    <tr>\n",
       "      <th>1번</th>\n",
       "      <td>강나래</td>\n",
       "      <td>구로고</td>\n",
       "      <td>3</td>\n",
       "      <td>197</td>\n",
       "      <td>90</td>\n",
       "      <td>85</td>\n",
       "      <td>100</td>\n",
       "      <td>95</td>\n",
       "      <td>85</td>\n",
       "      <td>Python</td>\n",
       "    </tr>\n",
       "    <tr>\n",
       "      <th>2번</th>\n",
       "      <td>강태원</td>\n",
       "      <td>구로고</td>\n",
       "      <td>3</td>\n",
       "      <td>184</td>\n",
       "      <td>40</td>\n",
       "      <td>35</td>\n",
       "      <td>50</td>\n",
       "      <td>55</td>\n",
       "      <td>25</td>\n",
       "      <td>Java</td>\n",
       "    </tr>\n",
       "    <tr>\n",
       "      <th>3번</th>\n",
       "      <td>강호림</td>\n",
       "      <td>구로고</td>\n",
       "      <td>2</td>\n",
       "      <td>168</td>\n",
       "      <td>80</td>\n",
       "      <td>75</td>\n",
       "      <td>70</td>\n",
       "      <td>80</td>\n",
       "      <td>75</td>\n",
       "      <td>javascript</td>\n",
       "    </tr>\n",
       "    <tr>\n",
       "      <th>4번</th>\n",
       "      <td>김수찬</td>\n",
       "      <td>구로고</td>\n",
       "      <td>1</td>\n",
       "      <td>187</td>\n",
       "      <td>40</td>\n",
       "      <td>60</td>\n",
       "      <td>70</td>\n",
       "      <td>75</td>\n",
       "      <td>80</td>\n",
       "      <td>NaN</td>\n",
       "    </tr>\n",
       "    <tr>\n",
       "      <th>5번</th>\n",
       "      <td>김재욱</td>\n",
       "      <td>구로고</td>\n",
       "      <td>1</td>\n",
       "      <td>188</td>\n",
       "      <td>15</td>\n",
       "      <td>20</td>\n",
       "      <td>10</td>\n",
       "      <td>35</td>\n",
       "      <td>10</td>\n",
       "      <td>NaN</td>\n",
       "    </tr>\n",
       "    <tr>\n",
       "      <th>6번</th>\n",
       "      <td>박동현</td>\n",
       "      <td>단지고</td>\n",
       "      <td>3</td>\n",
       "      <td>202</td>\n",
       "      <td>80</td>\n",
       "      <td>100</td>\n",
       "      <td>95</td>\n",
       "      <td>85</td>\n",
       "      <td>80</td>\n",
       "      <td>C</td>\n",
       "    </tr>\n",
       "    <tr>\n",
       "      <th>7번</th>\n",
       "      <td>박혜정</td>\n",
       "      <td>단지고</td>\n",
       "      <td>2</td>\n",
       "      <td>188</td>\n",
       "      <td>55</td>\n",
       "      <td>65</td>\n",
       "      <td>45</td>\n",
       "      <td>40</td>\n",
       "      <td>35</td>\n",
       "      <td>PYTHON</td>\n",
       "    </tr>\n",
       "    <tr>\n",
       "      <th>8번</th>\n",
       "      <td>승근열</td>\n",
       "      <td>단지고</td>\n",
       "      <td>2</td>\n",
       "      <td>190</td>\n",
       "      <td>100</td>\n",
       "      <td>85</td>\n",
       "      <td>90</td>\n",
       "      <td>95</td>\n",
       "      <td>95</td>\n",
       "      <td>c#</td>\n",
       "    </tr>\n",
       "  </tbody>\n",
       "</table>\n",
       "</div>"
      ],
      "text/plain": [
       "       이름   학교  학년    키   국어   영어   수학  과학  사회        SW특기\n",
       "지원번호                                                      \n",
       "1번    강나래  구로고   3  197   90   85  100  95  85      Python\n",
       "2번    강태원  구로고   3  184   40   35   50  55  25        Java\n",
       "3번    강호림  구로고   2  168   80   75   70  80  75  javascript\n",
       "4번    김수찬  구로고   1  187   40   60   70  75  80         NaN\n",
       "5번    김재욱  구로고   1  188   15   20   10  35  10         NaN\n",
       "6번    박동현  단지고   3  202   80  100   95  85  80           C\n",
       "7번    박혜정  단지고   2  188   55   65   45  40  35      PYTHON\n",
       "8번    승근열  단지고   2  190  100   85   90  95  95          c#"
      ]
     },
     "execution_count": 39,
     "metadata": {},
     "output_type": "execute_result"
    }
   ],
   "source": [
    "import pandas as pd\n",
    "df = pd.read_excel('../z20_data/score.xlsx',index_col = '지원번호')\n",
    "df"
   ]
  },
  {
   "cell_type": "code",
   "execution_count": 40,
   "metadata": {},
   "outputs": [
    {
     "data": {
      "text/plain": [
       "학교\n",
       "구로고    5\n",
       "단지고    3\n",
       "Name: count, dtype: int64"
      ]
     },
     "execution_count": 40,
     "metadata": {},
     "output_type": "execute_result"
    }
   ],
   "source": [
    "# 학교별 학생 수\n",
    "df['학교'].value_counts()"
   ]
  },
  {
   "cell_type": "code",
   "execution_count": 41,
   "metadata": {},
   "outputs": [
    {
     "data": {
      "text/plain": [
       "학교\n",
       "구로고    5\n",
       "단지고    3\n",
       "dtype: int64"
      ]
     },
     "execution_count": 41,
     "metadata": {},
     "output_type": "execute_result"
    }
   ],
   "source": [
    "# 학교별 학생 수\n",
    "df.groupby('학교').size()"
   ]
  },
  {
   "cell_type": "code",
   "execution_count": 42,
   "metadata": {},
   "outputs": [
    {
     "data": {
      "text/plain": [
       "학교\n",
       "구로고    184.800000\n",
       "단지고    193.333333\n",
       "Name: 키, dtype: float64"
      ]
     },
     "execution_count": 42,
     "metadata": {},
     "output_type": "execute_result"
    }
   ],
   "source": [
    "df.groupby('학교')['키'].mean()"
   ]
  },
  {
   "cell_type": "code",
   "execution_count": 43,
   "metadata": {},
   "outputs": [
    {
     "data": {
      "text/plain": [
       "학교   학년\n",
       "구로고  1     2\n",
       "     2     1\n",
       "     3     2\n",
       "단지고  2     2\n",
       "     3     1\n",
       "dtype: int64"
      ]
     },
     "execution_count": 43,
     "metadata": {},
     "output_type": "execute_result"
    }
   ],
   "source": [
    "df.groupby(['학교','학년']).size()"
   ]
  },
  {
   "cell_type": "code",
   "execution_count": 69,
   "metadata": {},
   "outputs": [
    {
     "data": {
      "text/plain": [
       "학교   학년\n",
       "구로고  1     187.5\n",
       "     2     168.0\n",
       "     3     190.5\n",
       "단지고  2     189.0\n",
       "     3     202.0\n",
       "Name: 키, dtype: float64"
      ]
     },
     "execution_count": 69,
     "metadata": {},
     "output_type": "execute_result"
    }
   ],
   "source": [
    "# df.groupby(['학교','학년'])['키']\n",
    "\n",
    "# 학교별 학년의 키 평균\n",
    "df.groupby(['학교','학년'])['키'].mean()"
   ]
  },
  {
   "cell_type": "code",
   "execution_count": 59,
   "metadata": {},
   "outputs": [
    {
     "data": {
      "text/html": [
       "<div>\n",
       "<style scoped>\n",
       "    .dataframe tbody tr th:only-of-type {\n",
       "        vertical-align: middle;\n",
       "    }\n",
       "\n",
       "    .dataframe tbody tr th {\n",
       "        vertical-align: top;\n",
       "    }\n",
       "\n",
       "    .dataframe thead th {\n",
       "        text-align: right;\n",
       "    }\n",
       "</style>\n",
       "<table border=\"1\" class=\"dataframe\">\n",
       "  <thead>\n",
       "    <tr style=\"text-align: right;\">\n",
       "      <th></th>\n",
       "      <th></th>\n",
       "      <th>키</th>\n",
       "      <th>국어</th>\n",
       "    </tr>\n",
       "    <tr>\n",
       "      <th>학교</th>\n",
       "      <th>학년</th>\n",
       "      <th></th>\n",
       "      <th></th>\n",
       "    </tr>\n",
       "  </thead>\n",
       "  <tbody>\n",
       "    <tr>\n",
       "      <th rowspan=\"3\" valign=\"top\">구로고</th>\n",
       "      <th>1</th>\n",
       "      <td>187.5</td>\n",
       "      <td>27.5</td>\n",
       "    </tr>\n",
       "    <tr>\n",
       "      <th>2</th>\n",
       "      <td>168.0</td>\n",
       "      <td>80.0</td>\n",
       "    </tr>\n",
       "    <tr>\n",
       "      <th>3</th>\n",
       "      <td>190.5</td>\n",
       "      <td>65.0</td>\n",
       "    </tr>\n",
       "    <tr>\n",
       "      <th rowspan=\"2\" valign=\"top\">단지고</th>\n",
       "      <th>2</th>\n",
       "      <td>189.0</td>\n",
       "      <td>77.5</td>\n",
       "    </tr>\n",
       "    <tr>\n",
       "      <th>3</th>\n",
       "      <td>202.0</td>\n",
       "      <td>80.0</td>\n",
       "    </tr>\n",
       "  </tbody>\n",
       "</table>\n",
       "</div>"
      ],
      "text/plain": [
       "            키    국어\n",
       "학교  학년             \n",
       "구로고 1   187.5  27.5\n",
       "    2   168.0  80.0\n",
       "    3   190.5  65.0\n",
       "단지고 2   189.0  77.5\n",
       "    3   202.0  80.0"
      ]
     },
     "execution_count": 59,
     "metadata": {},
     "output_type": "execute_result"
    }
   ],
   "source": [
    "df.groupby(['학교','학년']).sum()\n",
    "df.groupby(['학교','학년']).count()\n",
    "df.groupby(['학교','학년'])[['이름','SW특기']].count()\n",
    "df.groupby(['학교','학년'])[['키','국어']].mean()"
   ]
  },
  {
   "cell_type": "code",
   "execution_count": 77,
   "metadata": {},
   "outputs": [
    {
     "data": {
      "text/plain": [
       "학교\n",
       "구로고    5\n",
       "단지고    3\n",
       "Name: 학년, dtype: int64"
      ]
     },
     "execution_count": 77,
     "metadata": {},
     "output_type": "execute_result"
    }
   ],
   "source": [
    "school = df.groupby('학교')\n",
    "# school.get_group('구로고')\n",
    "school['키'].mean()\n",
    "school['학년'].value_counts()\n",
    "school['학년'].size()"
   ]
  },
  {
   "cell_type": "code",
   "execution_count": 80,
   "metadata": {},
   "outputs": [
    {
     "data": {
      "text/plain": [
       "학년\n",
       "1    2\n",
       "3    2\n",
       "2    1\n",
       "Name: count, dtype: int64"
      ]
     },
     "execution_count": 80,
     "metadata": {},
     "output_type": "execute_result"
    }
   ],
   "source": [
    "school = df.groupby('학교')\n",
    "school['학년'].value_counts().loc['구로고']"
   ]
  },
  {
   "cell_type": "code",
   "execution_count": 84,
   "metadata": {},
   "outputs": [
    {
     "data": {
      "text/plain": [
       "학년\n",
       "1    40.0%\n",
       "3    40.0%\n",
       "2    20.0%\n",
       "Name: proportion, dtype: object"
      ]
     },
     "execution_count": 84,
     "metadata": {},
     "output_type": "execute_result"
    }
   ],
   "source": [
    "# 학년별 인원수\n",
    "school['학년'].value_counts().loc['구로고']\n",
    "\n",
    "# 학년별 퍼센트\n",
    "(school['학년'].value_counts(normalize=True).loc['구로고']*100).astype(str)+'%'"
   ]
  },
  {
   "cell_type": "code",
   "execution_count": 85,
   "metadata": {},
   "outputs": [
    {
     "data": {
      "text/html": [
       "<div>\n",
       "<style scoped>\n",
       "    .dataframe tbody tr th:only-of-type {\n",
       "        vertical-align: middle;\n",
       "    }\n",
       "\n",
       "    .dataframe tbody tr th {\n",
       "        vertical-align: top;\n",
       "    }\n",
       "\n",
       "    .dataframe thead th {\n",
       "        text-align: right;\n",
       "    }\n",
       "</style>\n",
       "<table border=\"1\" class=\"dataframe\">\n",
       "  <thead>\n",
       "    <tr style=\"text-align: right;\">\n",
       "      <th></th>\n",
       "      <th>id</th>\n",
       "      <th>pw</th>\n",
       "      <th>name</th>\n",
       "      <th>phone</th>\n",
       "      <th>email</th>\n",
       "      <th>address</th>\n",
       "      <th>gender</th>\n",
       "      <th>major</th>\n",
       "      <th>grade</th>\n",
       "      <th>hobby</th>\n",
       "      <th>ip_address</th>\n",
       "    </tr>\n",
       "  </thead>\n",
       "  <tbody>\n",
       "    <tr>\n",
       "      <th>0</th>\n",
       "      <td>Joelynn</td>\n",
       "      <td>6856</td>\n",
       "      <td>Paschke</td>\n",
       "      <td>726-935-7279</td>\n",
       "      <td>jpaschke0@time.com</td>\n",
       "      <td>460 Melby Avenue</td>\n",
       "      <td>F</td>\n",
       "      <td>science</td>\n",
       "      <td>2</td>\n",
       "      <td>run</td>\n",
       "      <td>197.125.170.29</td>\n",
       "    </tr>\n",
       "    <tr>\n",
       "      <th>1</th>\n",
       "      <td>Bambie</td>\n",
       "      <td>8439</td>\n",
       "      <td>Henriet</td>\n",
       "      <td>106-961-2837</td>\n",
       "      <td>bhenriet1@github.io</td>\n",
       "      <td>5682 School Road</td>\n",
       "      <td>F</td>\n",
       "      <td>machine</td>\n",
       "      <td>1</td>\n",
       "      <td>game</td>\n",
       "      <td>186.223.222.89</td>\n",
       "    </tr>\n",
       "    <tr>\n",
       "      <th>2</th>\n",
       "      <td>Orin</td>\n",
       "      <td>4720</td>\n",
       "      <td>Torresi</td>\n",
       "      <td>283-535-0981</td>\n",
       "      <td>otorresi2@vinaora.com</td>\n",
       "      <td>2341 Straubel Place</td>\n",
       "      <td>M</td>\n",
       "      <td>computer</td>\n",
       "      <td>3</td>\n",
       "      <td>run</td>\n",
       "      <td>103.111.108.9</td>\n",
       "    </tr>\n",
       "    <tr>\n",
       "      <th>3</th>\n",
       "      <td>Puff</td>\n",
       "      <td>8047</td>\n",
       "      <td>Gilvary</td>\n",
       "      <td>677-319-4536</td>\n",
       "      <td>pgilvary3@bbc.co.uk</td>\n",
       "      <td>5 Sheridan Street</td>\n",
       "      <td>M</td>\n",
       "      <td>computer</td>\n",
       "      <td>1</td>\n",
       "      <td>game</td>\n",
       "      <td>130.172.144.105</td>\n",
       "    </tr>\n",
       "    <tr>\n",
       "      <th>4</th>\n",
       "      <td>Godfree</td>\n",
       "      <td>5878</td>\n",
       "      <td>Gauchier</td>\n",
       "      <td>451-834-0498</td>\n",
       "      <td>ggauchier4@uiuc.edu</td>\n",
       "      <td>96 Northwestern Trail</td>\n",
       "      <td>M</td>\n",
       "      <td>computer</td>\n",
       "      <td>2</td>\n",
       "      <td>run</td>\n",
       "      <td>203.234.117.86</td>\n",
       "    </tr>\n",
       "    <tr>\n",
       "      <th>...</th>\n",
       "      <td>...</td>\n",
       "      <td>...</td>\n",
       "      <td>...</td>\n",
       "      <td>...</td>\n",
       "      <td>...</td>\n",
       "      <td>...</td>\n",
       "      <td>...</td>\n",
       "      <td>...</td>\n",
       "      <td>...</td>\n",
       "      <td>...</td>\n",
       "      <td>...</td>\n",
       "    </tr>\n",
       "    <tr>\n",
       "      <th>995</th>\n",
       "      <td>Wilburt</td>\n",
       "      <td>4365</td>\n",
       "      <td>Eyrl</td>\n",
       "      <td>551-729-0172</td>\n",
       "      <td>weyrlrn@ezinearticles.com</td>\n",
       "      <td>111 Gina Plaza</td>\n",
       "      <td>M</td>\n",
       "      <td>computer</td>\n",
       "      <td>4</td>\n",
       "      <td>book</td>\n",
       "      <td>117.93.125.71</td>\n",
       "    </tr>\n",
       "    <tr>\n",
       "      <th>996</th>\n",
       "      <td>Broddie</td>\n",
       "      <td>1444</td>\n",
       "      <td>Chalfant</td>\n",
       "      <td>961-627-7363</td>\n",
       "      <td>bchalfantro@reference.com</td>\n",
       "      <td>40 Porter Point</td>\n",
       "      <td>M</td>\n",
       "      <td>machine</td>\n",
       "      <td>2</td>\n",
       "      <td>golf</td>\n",
       "      <td>235.60.202.0</td>\n",
       "    </tr>\n",
       "    <tr>\n",
       "      <th>997</th>\n",
       "      <td>Baxter</td>\n",
       "      <td>3156</td>\n",
       "      <td>Peacham</td>\n",
       "      <td>349-596-4800</td>\n",
       "      <td>bpeachamrp@vimeo.com</td>\n",
       "      <td>245 Jay Park</td>\n",
       "      <td>M</td>\n",
       "      <td>science</td>\n",
       "      <td>1</td>\n",
       "      <td>run</td>\n",
       "      <td>81.100.120.84</td>\n",
       "    </tr>\n",
       "    <tr>\n",
       "      <th>998</th>\n",
       "      <td>Ignacio</td>\n",
       "      <td>2412</td>\n",
       "      <td>Vaneev</td>\n",
       "      <td>130-508-8945</td>\n",
       "      <td>ivaneevrq@is.gd</td>\n",
       "      <td>6566 Schmedeman Lane</td>\n",
       "      <td>M</td>\n",
       "      <td>science</td>\n",
       "      <td>4</td>\n",
       "      <td>game</td>\n",
       "      <td>176.141.113.21</td>\n",
       "    </tr>\n",
       "    <tr>\n",
       "      <th>999</th>\n",
       "      <td>Wallache</td>\n",
       "      <td>2512</td>\n",
       "      <td>Bleas</td>\n",
       "      <td>702-366-1309</td>\n",
       "      <td>wbleasrr@youku.com</td>\n",
       "      <td>2776 Leroy Point</td>\n",
       "      <td>M</td>\n",
       "      <td>science</td>\n",
       "      <td>3</td>\n",
       "      <td>golf</td>\n",
       "      <td>120.241.197.141</td>\n",
       "    </tr>\n",
       "  </tbody>\n",
       "</table>\n",
       "<p>1000 rows × 11 columns</p>\n",
       "</div>"
      ],
      "text/plain": [
       "           id    pw      name         phone                      email  \\\n",
       "0     Joelynn  6856   Paschke  726-935-7279         jpaschke0@time.com   \n",
       "1      Bambie  8439   Henriet  106-961-2837        bhenriet1@github.io   \n",
       "2        Orin  4720   Torresi  283-535-0981      otorresi2@vinaora.com   \n",
       "3        Puff  8047   Gilvary  677-319-4536        pgilvary3@bbc.co.uk   \n",
       "4     Godfree  5878  Gauchier  451-834-0498        ggauchier4@uiuc.edu   \n",
       "..        ...   ...       ...           ...                        ...   \n",
       "995   Wilburt  4365      Eyrl  551-729-0172  weyrlrn@ezinearticles.com   \n",
       "996   Broddie  1444  Chalfant  961-627-7363  bchalfantro@reference.com   \n",
       "997    Baxter  3156   Peacham  349-596-4800       bpeachamrp@vimeo.com   \n",
       "998   Ignacio  2412    Vaneev  130-508-8945            ivaneevrq@is.gd   \n",
       "999  Wallache  2512     Bleas  702-366-1309         wbleasrr@youku.com   \n",
       "\n",
       "                   address gender     major  grade hobby       ip_address  \n",
       "0         460 Melby Avenue      F   science      2   run   197.125.170.29  \n",
       "1         5682 School Road      F   machine      1  game   186.223.222.89  \n",
       "2      2341 Straubel Place      M  computer      3   run    103.111.108.9  \n",
       "3        5 Sheridan Street      M  computer      1  game  130.172.144.105  \n",
       "4    96 Northwestern Trail      M  computer      2   run   203.234.117.86  \n",
       "..                     ...    ...       ...    ...   ...              ...  \n",
       "995         111 Gina Plaza      M  computer      4  book    117.93.125.71  \n",
       "996        40 Porter Point      M   machine      2  golf     235.60.202.0  \n",
       "997           245 Jay Park      M   science      1   run    81.100.120.84  \n",
       "998   6566 Schmedeman Lane      M   science      4  game   176.141.113.21  \n",
       "999       2776 Leroy Point      M   science      3  golf  120.241.197.141  \n",
       "\n",
       "[1000 rows x 11 columns]"
      ]
     },
     "execution_count": 85,
     "metadata": {},
     "output_type": "execute_result"
    }
   ],
   "source": [
    "import pandas as pd\n",
    "df = pd.read_csv('../z20_data/students2.csv',encoding='utf-8')\n",
    "df\n",
    "\n",
    "# 성별로 인원 수 출력하시오"
   ]
  },
  {
   "cell_type": "code",
   "execution_count": 86,
   "metadata": {},
   "outputs": [
    {
     "data": {
      "text/plain": [
       "gender\n",
       "F    515\n",
       "M    485\n",
       "dtype: int64"
      ]
     },
     "execution_count": 86,
     "metadata": {},
     "output_type": "execute_result"
    }
   ],
   "source": [
    "# 성별로 인원 수 출력하시오\n",
    "df.groupby('gender').size()"
   ]
  },
  {
   "cell_type": "code",
   "execution_count": 88,
   "metadata": {},
   "outputs": [
    {
     "name": "stdout",
     "output_type": "stream",
     "text": [
      "<class 'pandas.core.frame.DataFrame'>\n",
      "RangeIndex: 1000 entries, 0 to 999\n",
      "Data columns (total 11 columns):\n",
      " #   Column      Non-Null Count  Dtype \n",
      "---  ------      --------------  ----- \n",
      " 0   id          1000 non-null   object\n",
      " 1   pw          1000 non-null   int64 \n",
      " 2   name        1000 non-null   object\n",
      " 3   phone       1000 non-null   object\n",
      " 4   email       1000 non-null   object\n",
      " 5   address     1000 non-null   object\n",
      " 6   gender      1000 non-null   object\n",
      " 7   major       1000 non-null   object\n",
      " 8   grade       1000 non-null   int64 \n",
      " 9   hobby       1000 non-null   object\n",
      " 10  ip_address  1000 non-null   object\n",
      "dtypes: int64(2), object(9)\n",
      "memory usage: 86.1+ KB\n"
     ]
    },
    {
     "data": {
      "text/html": [
       "<div>\n",
       "<style scoped>\n",
       "    .dataframe tbody tr th:only-of-type {\n",
       "        vertical-align: middle;\n",
       "    }\n",
       "\n",
       "    .dataframe tbody tr th {\n",
       "        vertical-align: top;\n",
       "    }\n",
       "\n",
       "    .dataframe thead th {\n",
       "        text-align: right;\n",
       "    }\n",
       "</style>\n",
       "<table border=\"1\" class=\"dataframe\">\n",
       "  <thead>\n",
       "    <tr style=\"text-align: right;\">\n",
       "      <th></th>\n",
       "      <th>pw</th>\n",
       "      <th>grade</th>\n",
       "    </tr>\n",
       "  </thead>\n",
       "  <tbody>\n",
       "    <tr>\n",
       "      <th>count</th>\n",
       "      <td>1000.000000</td>\n",
       "      <td>1000.000000</td>\n",
       "    </tr>\n",
       "    <tr>\n",
       "      <th>mean</th>\n",
       "      <td>5451.412000</td>\n",
       "      <td>2.512000</td>\n",
       "    </tr>\n",
       "    <tr>\n",
       "      <th>std</th>\n",
       "      <td>2561.837819</td>\n",
       "      <td>1.122995</td>\n",
       "    </tr>\n",
       "    <tr>\n",
       "      <th>min</th>\n",
       "      <td>1011.000000</td>\n",
       "      <td>1.000000</td>\n",
       "    </tr>\n",
       "    <tr>\n",
       "      <th>25%</th>\n",
       "      <td>3322.500000</td>\n",
       "      <td>2.000000</td>\n",
       "    </tr>\n",
       "    <tr>\n",
       "      <th>50%</th>\n",
       "      <td>5384.500000</td>\n",
       "      <td>3.000000</td>\n",
       "    </tr>\n",
       "    <tr>\n",
       "      <th>75%</th>\n",
       "      <td>7627.750000</td>\n",
       "      <td>4.000000</td>\n",
       "    </tr>\n",
       "    <tr>\n",
       "      <th>max</th>\n",
       "      <td>9994.000000</td>\n",
       "      <td>4.000000</td>\n",
       "    </tr>\n",
       "  </tbody>\n",
       "</table>\n",
       "</div>"
      ],
      "text/plain": [
       "                pw        grade\n",
       "count  1000.000000  1000.000000\n",
       "mean   5451.412000     2.512000\n",
       "std    2561.837819     1.122995\n",
       "min    1011.000000     1.000000\n",
       "25%    3322.500000     2.000000\n",
       "50%    5384.500000     3.000000\n",
       "75%    7627.750000     4.000000\n",
       "max    9994.000000     4.000000"
      ]
     },
     "execution_count": 88,
     "metadata": {},
     "output_type": "execute_result"
    }
   ],
   "source": [
    "df.info()\n",
    "df.describe()   # pw, grade 이므로 의미가 없음"
   ]
  },
  {
   "cell_type": "code",
   "execution_count": 97,
   "metadata": {},
   "outputs": [
    {
     "data": {
      "text/plain": [
       "grade\n",
       "4    25.6%\n",
       "1    24.9%\n",
       "3    24.9%\n",
       "2    24.6%\n",
       "Name: proportion, dtype: object"
      ]
     },
     "execution_count": 97,
     "metadata": {},
     "output_type": "execute_result"
    }
   ],
   "source": [
    "df.groupby('grade').size()\n",
    "# df.groupby('grade').value_counts()\n",
    "(df['grade'].value_counts(normalize=True)*100).astype(str)+'%'"
   ]
  }
 ],
 "metadata": {
  "kernelspec": {
   "display_name": "Python 3",
   "language": "python",
   "name": "python3"
  },
  "language_info": {
   "codemirror_mode": {
    "name": "ipython",
    "version": 3
   },
   "file_extension": ".py",
   "mimetype": "text/x-python",
   "name": "python",
   "nbconvert_exporter": "python",
   "pygments_lexer": "ipython3",
   "version": "3.12.0"
  }
 },
 "nbformat": 4,
 "nbformat_minor": 2
}
