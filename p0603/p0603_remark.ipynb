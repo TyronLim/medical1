{
 "cells": [
  {
   "cell_type": "markdown",
   "metadata": {},
   "source": [
    "## Python 복습"
   ]
  },
  {
   "cell_type": "markdown",
   "metadata": {},
   "source": [
    "### Markdown 수식 작성\n",
    "    - LaTEX 태그로 작성 가능"
   ]
  },
  {
   "cell_type": "markdown",
   "metadata": {},
   "source": [
    "$$\n",
    "\\begin{pmatrix}\n",
    "1 & 2 & 3 \\\\ \n",
    "4 & 5 & 6 \\\\ \n",
    "\\end{pmatrix}\n",
    "+\n",
    "\\begin{pmatrix}\n",
    "5 & 5 & 5 \\\\\n",
    "5 & 5 & 5 \\\\\n",
    "\\end{pmatrix}\n",
    "$$\n",
    "\n",
    "$$\n",
    "\\begin{pmatrix}\n",
    "1 & 2 & 3 \\\\\n",
    "4 & 5 & 6 \\\\\n",
    "\\end{pmatrix}\n",
    "\\times\n",
    "\\begin{pmatrix}\n",
    "5 & 5  \\\\\n",
    "5 & 5  \\\\\n",
    "5 & 5  \\\\\n",
    "\\end{pmatrix}\n",
    "$$"
   ]
  },
  {
   "cell_type": "markdown",
   "metadata": {},
   "source": [
    "$\\begin{matrix}1&2\\\\3&4\\\\ \\end{matrix}$\n",
    "$\\begin{pmatrix}1&2\\\\3&4\\\\ \\end{pmatrix}$\n",
    "$\\begin{bmatrix}1&2\\\\3&4\\\\ \\end{bmatrix}$\n",
    "$\\begin{Bmatrix}1&2\\\\3&4\\\\ \\end{Bmatrix}$\n",
    "$\\begin{vmatrix}1&2\\\\3&4\\\\ \\end{vmatrix}$\n",
    "$\\begin{Vmatrix}1&2\\\\3&4\\\\ \\end{Vmatrix}$"
   ]
  },
  {
   "cell_type": "markdown",
   "metadata": {},
   "source": [
    "$$\n",
    "\\begin{aligned}\n",
    "f(x)&=ax^2+bx+c\\\\\n",
    "g(x)&=Ax^4\n",
    "\\end{aligned}$$"
   ]
  },
  {
   "cell_type": "markdown",
   "metadata": {
    "vscode": {
     "languageId": "plaintext"
    }
   },
   "source": [
    "### Numpy\n",
    "    - 데이터는 행렬로 표현(영상도 포함)\n",
    "    - 선형대수 / 통계 연산을 위한 라이브러리\n",
    "\n",
    "    Pandas : 데이터 분석에 가장 많이 활용\n",
    "    Numpy : 알고리즘 활용에 numpy가 필수적 패키지"
   ]
  },
  {
   "cell_type": "code",
   "execution_count": 2,
   "metadata": {},
   "outputs": [],
   "source": [
    "# 호출\n",
    "import numpy as np"
   ]
  },
  {
   "cell_type": "markdown",
   "metadata": {},
   "source": [
    "#### array broadcasting\n",
    "    - 차원이 다른 연산을 동일한 차원으로 자동으로 변경시켜 연산을 가능하게 해주는 것\n",
    "    - 딥러닝에서 bias(편향) 계산을 할 때 주로 사용"
   ]
  },
  {
   "cell_type": "code",
   "execution_count": 4,
   "metadata": {},
   "outputs": [
    {
     "data": {
      "text/plain": [
       "array([69, 56, 52, 18, 27, 59, 82, 62, 99, 73])"
      ]
     },
     "execution_count": 4,
     "metadata": {},
     "output_type": "execute_result"
    }
   ],
   "source": [
    "ary = np.array(np.random.randint(10,100,10))\n",
    "ary"
   ]
  },
  {
   "cell_type": "code",
   "execution_count": 10,
   "metadata": {},
   "outputs": [
    {
     "data": {
      "text/plain": [
       "array([-1.36502805,  1.35991675,  0.23573603,  0.37960314,  0.07783435,\n",
       "        0.40438409,  0.11809907,  0.92341999,  0.61365926,  0.57061858])"
      ]
     },
     "execution_count": 10,
     "metadata": {},
     "output_type": "execute_result"
    }
   ],
   "source": [
    "# 초기 가중치 생성\n",
    "ary = np.array(np.random.randn(10)) # 표준겅규분포를 따르는 난수 생성 -> 초기 가중치 생성 때 사용\n",
    "ary"
   ]
  },
  {
   "cell_type": "code",
   "execution_count": 11,
   "metadata": {},
   "outputs": [
    {
     "data": {
      "text/plain": [
       "array([0.97919491])"
      ]
     },
     "execution_count": 11,
     "metadata": {},
     "output_type": "execute_result"
    }
   ],
   "source": [
    "# 평향값 생성\n",
    "bias = np.random.rand(1)\n",
    "bias"
   ]
  },
  {
   "cell_type": "code",
   "execution_count": 13,
   "metadata": {},
   "outputs": [
    {
     "data": {
      "text/plain": [
       "array([-0.38583314,  2.33911166,  1.21493094,  1.35879805,  1.05702926,\n",
       "        1.383579  ,  1.09729398,  1.9026149 ,  1.59285417,  1.54981349])"
      ]
     },
     "execution_count": 13,
     "metadata": {},
     "output_type": "execute_result"
    }
   ],
   "source": [
    "ary + bias  # array broadcasting"
   ]
  },
  {
   "cell_type": "markdown",
   "metadata": {},
   "source": [
    "### 통계함수\n",
    "    - max, min, mean, median, var, std"
   ]
  },
  {
   "cell_type": "code",
   "execution_count": 15,
   "metadata": {},
   "outputs": [
    {
     "data": {
      "text/plain": [
       "(1.3599167544078823, -1.365028049884608)"
      ]
     },
     "execution_count": 15,
     "metadata": {},
     "output_type": "execute_result"
    }
   ],
   "source": [
    "np.max(ary), np.min(ary) # min-max normailization 때 사용 -> 데이터 정규화"
   ]
  },
  {
   "cell_type": "markdown",
   "metadata": {},
   "source": [
    "### Random 모듈\n",
    " - seed : 랜덤 모듈의 규칙값. 난수 생성 환경 고정\n",
    " - randint : 균등분포로 정수 랜덤\n",
    " - randn : 정규분포로 난수 생성\n",
    " - shuffle : 무작위 섞기\n",
    " - choice : 특정확률로 데이터 뽑기"
   ]
  },
  {
   "cell_type": "markdown",
   "metadata": {},
   "source": [
    "### seed"
   ]
  },
  {
   "cell_type": "code",
   "execution_count": 16,
   "metadata": {},
   "outputs": [],
   "source": [
    "seed = 603 # 머신러닝,딥러닝에서 하이퍼파라미터로 사용\n",
    "\n",
    "np.random.seed(seed)\n",
    "r1 = np.random.rand(10)\n",
    "\n",
    "np.random.seed(1)\n",
    "r2 = np.random.rand(10)\n",
    "\n",
    "np.random.seed(seed)\n",
    "r3 = np.random.rand(10)"
   ]
  },
  {
   "cell_type": "code",
   "execution_count": 17,
   "metadata": {},
   "outputs": [
    {
     "data": {
      "text/plain": [
       "(array([0.06450168, 0.13338277, 0.10931622, 0.97127506, 0.85101842,\n",
       "        0.96534748, 0.99727133, 0.93093441, 0.48533923, 0.63427833]),\n",
       " array([4.17022005e-01, 7.20324493e-01, 1.14374817e-04, 3.02332573e-01,\n",
       "        1.46755891e-01, 9.23385948e-02, 1.86260211e-01, 3.45560727e-01,\n",
       "        3.96767474e-01, 5.38816734e-01]),\n",
       " array([0.06450168, 0.13338277, 0.10931622, 0.97127506, 0.85101842,\n",
       "        0.96534748, 0.99727133, 0.93093441, 0.48533923, 0.63427833]))"
      ]
     },
     "execution_count": 17,
     "metadata": {},
     "output_type": "execute_result"
    }
   ],
   "source": [
    "r1, r2, r3"
   ]
  },
  {
   "cell_type": "markdown",
   "metadata": {},
   "source": [
    "머신러닝 예시\n",
    "scaling 처리 후 return 값으로 ndarray 타입 데이터로 출력"
   ]
  },
  {
   "cell_type": "code",
   "execution_count": 18,
   "metadata": {},
   "outputs": [
    {
     "data": {
      "text/html": [
       "<div>\n",
       "<style scoped>\n",
       "    .dataframe tbody tr th:only-of-type {\n",
       "        vertical-align: middle;\n",
       "    }\n",
       "\n",
       "    .dataframe tbody tr th {\n",
       "        vertical-align: top;\n",
       "    }\n",
       "\n",
       "    .dataframe thead th {\n",
       "        text-align: right;\n",
       "    }\n",
       "</style>\n",
       "<table border=\"1\" class=\"dataframe\">\n",
       "  <thead>\n",
       "    <tr style=\"text-align: right;\">\n",
       "      <th></th>\n",
       "      <th>0</th>\n",
       "      <th>1</th>\n",
       "    </tr>\n",
       "  </thead>\n",
       "  <tbody>\n",
       "    <tr>\n",
       "      <th>0</th>\n",
       "      <td>94</td>\n",
       "      <td>21</td>\n",
       "    </tr>\n",
       "    <tr>\n",
       "      <th>1</th>\n",
       "      <td>49</td>\n",
       "      <td>93</td>\n",
       "    </tr>\n",
       "    <tr>\n",
       "      <th>2</th>\n",
       "      <td>5</td>\n",
       "      <td>96</td>\n",
       "    </tr>\n",
       "    <tr>\n",
       "      <th>3</th>\n",
       "      <td>29</td>\n",
       "      <td>83</td>\n",
       "    </tr>\n",
       "    <tr>\n",
       "      <th>4</th>\n",
       "      <td>77</td>\n",
       "      <td>45</td>\n",
       "    </tr>\n",
       "  </tbody>\n",
       "</table>\n",
       "</div>"
      ],
      "text/plain": [
       "    0   1\n",
       "0  94  21\n",
       "1  49  93\n",
       "2   5  96\n",
       "3  29  83\n",
       "4  77  45"
      ]
     },
     "execution_count": 18,
     "metadata": {},
     "output_type": "execute_result"
    }
   ],
   "source": [
    "from sklearn.preprocessing import MinMaxScaler\n",
    "import pandas as pd\n",
    "\n",
    "X = np.random.randint(1,100,10).reshape(-1,2) # 5행 2열\n",
    "df = pd.DataFrame(X)\n",
    "df\n",
    "\n",
    "\n"
   ]
  },
  {
   "cell_type": "code",
   "execution_count": 19,
   "metadata": {},
   "outputs": [
    {
     "data": {
      "text/plain": [
       "(array([[1.        , 0.        ],\n",
       "        [0.49438202, 0.96      ],\n",
       "        [0.        , 1.        ],\n",
       "        [0.26966292, 0.82666667],\n",
       "        [0.80898876, 0.32      ]]),\n",
       " numpy.ndarray)"
      ]
     },
     "execution_count": 19,
     "metadata": {},
     "output_type": "execute_result"
    }
   ],
   "source": [
    "scaled_data = MinMaxScaler().fit_transform(df)\n",
    "scaled_data, type(scaled_data)"
   ]
  },
  {
   "cell_type": "code",
   "execution_count": 20,
   "metadata": {},
   "outputs": [
    {
     "data": {
      "text/plain": [
       "array([[0., 0., 0., 0.],\n",
       "       [0., 0., 0., 0.],\n",
       "       [0., 0., 0., 0.],\n",
       "       [0., 0., 0., 0.]])"
      ]
     },
     "execution_count": 20,
     "metadata": {},
     "output_type": "execute_result"
    }
   ],
   "source": [
    "zero_ary = np.zeros((4,4))\n",
    "zero_ary"
   ]
  },
  {
   "cell_type": "code",
   "execution_count": 49,
   "metadata": {},
   "outputs": [
    {
     "data": {
      "text/plain": [
       "array([[ 1.81284992,  0.        ,  0.        ,  0.        ],\n",
       "       [ 0.        ,  0.35103089,  0.        ,  0.        ],\n",
       "       [ 0.        ,  0.        ,  0.41353508,  0.        ],\n",
       "       [ 0.        ,  0.        ,  0.        , -0.68993506]])"
      ]
     },
     "execution_count": 49,
     "metadata": {},
     "output_type": "execute_result"
    }
   ],
   "source": [
    "import numpy as np\n",
    "w = np.random.randn(4)\n",
    "shp = np.zeros((4,4))\n",
    "\n",
    "sum = 0\n",
    "for i in range(shp.shape[0]):\n",
    "    for j in range(shp.shape[1]):\n",
    "        if i == j: shp[i][j] = w[i]\n",
    "\n",
    "shp\n",
    "        \n",
    "        "
   ]
  },
  {
   "cell_type": "code",
   "execution_count": 47,
   "metadata": {},
   "outputs": [
    {
     "data": {
      "text/plain": [
       "array([[ 0.18165408,  0.        ,  0.        ,  0.        ],\n",
       "       [ 0.        ,  0.12496912,  0.        ,  0.        ],\n",
       "       [ 0.        ,  0.        ,  0.14189891,  0.        ],\n",
       "       [ 0.        ,  0.        ,  0.        , -0.71035095]])"
      ]
     },
     "execution_count": 47,
     "metadata": {},
     "output_type": "execute_result"
    }
   ],
   "source": [
    "import numpy as np\n",
    "diag_matrix = np.diag(np.random.randn(4))\n",
    "\n",
    "diag_matrix"
   ]
  },
  {
   "cell_type": "markdown",
   "metadata": {},
   "source": [
    "### Function\n",
    "- 반복성을 줄이고 함수로 선언한 연산을 재사용\n",
    "- 객체 지향 언어의 가장 큰 장점"
   ]
  },
  {
   "cell_type": "code",
   "execution_count": 51,
   "metadata": {},
   "outputs": [
    {
     "data": {
      "text/plain": [
       "'python\\ndef 함수명(파라미터):\\nreturn 출력값\\n'"
      ]
     },
     "execution_count": 51,
     "metadata": {},
     "output_type": "execute_result"
    }
   ],
   "source": [
    "'''python\n",
    "def 함수명(파라미터):\n",
    "return 출력값\n",
    "'''"
   ]
  },
  {
   "cell_type": "code",
   "execution_count": 55,
   "metadata": {},
   "outputs": [
    {
     "name": "stdout",
     "output_type": "stream",
     "text": [
      "603\n",
      "604\n",
      "604\n"
     ]
    }
   ],
   "source": [
    "# 리턴을 선언하지 않고 사용하는 경우 > 함수가 연산 도구로만 사용될 때\n",
    "# 전역변수, 지역변수\n",
    "num = 603\n",
    "print(num)\n",
    "\n",
    "def today():\n",
    "    global num\n",
    "    \n",
    "    num = 604\n",
    "    print(num)\n",
    "\n",
    "today()\n",
    "\n",
    "print(num)\n",
    " \n"
   ]
  },
  {
   "cell_type": "markdown",
   "metadata": {},
   "source": [
    "### map 함수와 pandas apply는 유사한 기능\n",
    "- 순서가 있는 데이터값에 함수를 모두 적용하여 결과를출력하는 함수"
   ]
  },
  {
   "cell_type": "markdown",
   "metadata": {},
   "source": [
    "'''python\n",
    "map(적용할 함수, 입력할 데이터)\n",
    "'''"
   ]
  },
  {
   "cell_type": "code",
   "execution_count": 56,
   "metadata": {},
   "outputs": [
    {
     "data": {
      "text/plain": [
       "[1, 2, 3, 4, 5, 6]"
      ]
     },
     "execution_count": 56,
     "metadata": {},
     "output_type": "execute_result"
    }
   ],
   "source": [
    "num_txt = \"1 2 3 4 5 6\"\n",
    "num_int = list(map(int, num_txt.split(' ')))\n",
    "num_int"
   ]
  },
  {
   "cell_type": "markdown",
   "metadata": {},
   "source": [
    "#### lambda 함수\n",
    "- 간단한 연산을 구현하여 일시적으로 사용하는 함수"
   ]
  },
  {
   "cell_type": "markdown",
   "metadata": {},
   "source": [
    "'''python\n",
    "lanbda 리턴:연산\n",
    "'''\n"
   ]
  },
  {
   "cell_type": "code",
   "execution_count": 58,
   "metadata": {},
   "outputs": [
    {
     "name": "stdout",
     "output_type": "stream",
     "text": [
      "[ 12  68  54  14  47  23  76 100  35  71]\n",
      "[4, 22, 18, 4, 15, 7, 25, 33, 11, 23]\n"
     ]
    }
   ],
   "source": [
    "seq = np.random.randint(1,101,10)\n",
    "print(seq)\n",
    "q = list(map(lambda x:x//3,seq))\n",
    "print(q)"
   ]
  }
 ],
 "metadata": {
  "kernelspec": {
   "display_name": "Python 3",
   "language": "python",
   "name": "python3"
  },
  "language_info": {
   "codemirror_mode": {
    "name": "ipython",
    "version": 3
   },
   "file_extension": ".py",
   "mimetype": "text/x-python",
   "name": "python",
   "nbconvert_exporter": "python",
   "pygments_lexer": "ipython3",
   "version": "3.12.3"
  }
 },
 "nbformat": 4,
 "nbformat_minor": 2
}
