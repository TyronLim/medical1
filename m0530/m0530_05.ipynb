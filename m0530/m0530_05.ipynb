{
 "cells": [
  {
   "cell_type": "code",
   "execution_count": 1,
   "metadata": {},
   "outputs": [],
   "source": [
    "from selenium import webdriver\n",
    "from bs4 import BeautifulSoup\n",
    "import requests\n",
    "from selenium.webdriver.common.keys import Keys\n",
    "from selenium.webdriver.common.by import By\n",
    "import time\n",
    "\n",
    "headers = {\"User-Agent\":\"Mozilla/5.0 (Windows NT 10.0; Win64; x64) AppleWebKit/537.36 (KHTML, like Gecko) Chrome/123.0.0.0 Safari/537.36\",\"Accept-Language\":\"ko-KR,ko;q=0.9,en-US;q=0.8,en;q=0.7\"}\n"
   ]
  },
  {
   "cell_type": "code",
   "execution_count": null,
   "metadata": {},
   "outputs": [],
   "source": [
    "sites = []\n",
    "name = []\n",
    "\n",
    "url = 'https://namu.wiki/RecentChanges'\n",
    "browser = webdriver.Chrome()\n",
    "browser.get(url)\n",
    "time.sleep(1)\n",
    "soup = BeautifulSoup(browser.page_source,'lxml')\n",
    "d_1 = soup.find_all('div',{'class':'b5G6-Ki+'})\n",
    "# d_1_1 = soup.find_all('div',{'class':'tMX2P1XP'})\n",
    "# print(d_2)\n",
    "# # print(d_1)\n",
    "for i in range(60):\n",
    "    d_2 = d_1[i+1].find('a')['href']\n",
    "    d_3 = d_1[i+1].find('a').text\n",
    "    sites.append('https://namu.wiki'+d_2)\n",
    "    name.append(d_3)\n",
    "    url = 'https://namu.wiki'+d_2\n",
    "    browser.get(url)\n",
    "    print('https://namu.wiki'+d_2)\n",
    "    print(d_3)"
   ]
  },
  {
   "cell_type": "code",
   "execution_count": null,
   "metadata": {},
   "outputs": [],
   "source": [
    "\n",
    "category = []\n",
    "content = []\n",
    "for i in sites:\n",
    "    url = i\n",
    "    browser = webdriver.Chrome()\n",
    "    try:\n",
    "        browser.get(url)\n",
    "        time.sleep(1)\n",
    "        soup = BeautifulSoup(browser.page_source,'lxml')\n",
    "        cate = soup.find('li',{'class':'_5YOCljOj'})\n",
    "        cont = soup.find('div',{'class':'nA6im+12'})\n",
    "        category.append(cate.text)\n",
    "        if cont != None:\n",
    "            content.append(cont.text)\n",
    "        browser.close()\n",
    "    except: \n",
    "        category.append(0)\n",
    "        content.append(0)\n",
    "        print('패스')"
   ]
  },
  {
   "cell_type": "code",
   "execution_count": null,
   "metadata": {},
   "outputs": [],
   "source": [
    "import pandas as pd\n",
    "namu = {'name':[],'category':[],'content':[]}\n",
    "\n",
    "for i in range(50):\n",
    "    namu['name'].append(name[i])\n",
    "    namu['category'].append(category[i])\n",
    "    namu['content'].append(content[i])\n",
    "df = pd.DataFrame(namu)\n",
    "\n",
    "df.to_csv('namuwiki.csv',encoding='utf-8-sig')"
   ]
  }
 ],
 "metadata": {
  "kernelspec": {
   "display_name": "Python 3",
   "language": "python",
   "name": "python3"
  },
  "language_info": {
   "codemirror_mode": {
    "name": "ipython",
    "version": 3
   },
   "file_extension": ".py",
   "mimetype": "text/x-python",
   "name": "python",
   "nbconvert_exporter": "python",
   "pygments_lexer": "ipython3",
   "version": "3.12.3"
  }
 },
 "nbformat": 4,
 "nbformat_minor": 2
}
