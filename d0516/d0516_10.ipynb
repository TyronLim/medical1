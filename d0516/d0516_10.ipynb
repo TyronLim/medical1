{
 "cells": [
  {
   "cell_type": "code",
   "execution_count": 1,
   "metadata": {},
   "outputs": [],
   "source": [
    "import matplotlib.pyplot as plt\n",
    "import matplotlib\n",
    "import numpy as np\n",
    "import pandas as pd\n",
    "import seaborn as sns\n",
    "import requests\n",
    "import oracledb\n",
    "\n",
    "matplotlib.rcParams['axes.unicode_minus'] = False  # 마이너스 표시 해결\n",
    "# 한글설정\n",
    "matplotlib.rcParams['font.family'] = 'Malgun Gothic' # windows 사용자\n",
    "# matplotlib.rcParams['font.family'] = 'AppleGothic Gothic' # Mac사용자\n",
    "matplotlib.rcParams['font.size'] = '10' # 글자크기"
   ]
  },
  {
   "cell_type": "code",
   "execution_count": 5,
   "metadata": {},
   "outputs": [
    {
     "data": {
      "text/plain": [
       "0    61005932\n",
       "1     2226345\n",
       "2    39067888\n",
       "3    19711699\n",
       "4     9514703\n",
       "5      241674\n",
       "6     6246529\n",
       "7     3026500\n",
       "8     6091668\n",
       "9      248460\n",
       "Name: 진료건수, dtype: object"
      ]
     },
     "execution_count": 5,
     "metadata": {},
     "output_type": "execute_result"
    }
   ],
   "source": [
    "url=\"https://api.odcloud.kr/api/3051434/v1/uddi:a9238a42-556e-4feb-8e2e-f89c7ff72fb9_201706131814?page=1&perPage=10&serviceKey=bR8VrEdb3tH42N%2F1DeeaqaY44a39mVTRojVlGP6OOxEvM4CdjD3zBzO%2FGphkmdLD87hDUM%2B0i%2BT722sulnMfJg%3D%3D\"\n",
    "res = requests.get(url)\n",
    "json1 = res.json()\n",
    "datas = json1['data']\n",
    "\n",
    "df = pd.DataFrame(datas)\n",
    "df['진료건수']"
   ]
  },
  {
   "cell_type": "code",
   "execution_count": 43,
   "metadata": {},
   "outputs": [
    {
     "data": {
      "text/html": [
       "<div>\n",
       "<style scoped>\n",
       "    .dataframe tbody tr th:only-of-type {\n",
       "        vertical-align: middle;\n",
       "    }\n",
       "\n",
       "    .dataframe tbody tr th {\n",
       "        vertical-align: top;\n",
       "    }\n",
       "\n",
       "    .dataframe thead th {\n",
       "        text-align: right;\n",
       "    }\n",
       "</style>\n",
       "<table border=\"1\" class=\"dataframe\">\n",
       "  <thead>\n",
       "    <tr style=\"text-align: right;\">\n",
       "      <th></th>\n",
       "      <th>기관부담금(천원)</th>\n",
       "      <th>시도</th>\n",
       "      <th>입내원일수</th>\n",
       "      <th>종별</th>\n",
       "      <th>진료건수</th>\n",
       "      <th>진료실인원</th>\n",
       "      <th>진료일수</th>\n",
       "      <th>진료형태</th>\n",
       "      <th>총진료비(천원)</th>\n",
       "    </tr>\n",
       "  </thead>\n",
       "  <tbody>\n",
       "    <tr>\n",
       "      <th>0</th>\n",
       "      <td>5390627489</td>\n",
       "      <td>전국</td>\n",
       "      <td>96329691</td>\n",
       "      <td>1종</td>\n",
       "      <td>61005932</td>\n",
       "      <td>1147555</td>\n",
       "      <td>478676699</td>\n",
       "      <td>계</td>\n",
       "      <td>5.443836e+09</td>\n",
       "    </tr>\n",
       "    <tr>\n",
       "      <th>1</th>\n",
       "      <td>3031441055</td>\n",
       "      <td>전국</td>\n",
       "      <td>37763697</td>\n",
       "      <td>1종</td>\n",
       "      <td>2226345</td>\n",
       "      <td>365012</td>\n",
       "      <td>43130721</td>\n",
       "      <td>입원</td>\n",
       "      <td>3.031987e+09</td>\n",
       "    </tr>\n",
       "    <tr>\n",
       "      <th>2</th>\n",
       "      <td>1512928134</td>\n",
       "      <td>전국</td>\n",
       "      <td>38854295</td>\n",
       "      <td>1종</td>\n",
       "      <td>39067888</td>\n",
       "      <td>1101057</td>\n",
       "      <td>110371962</td>\n",
       "      <td>외래</td>\n",
       "      <td>1.558049e+09</td>\n",
       "    </tr>\n",
       "    <tr>\n",
       "      <th>3</th>\n",
       "      <td>846258300</td>\n",
       "      <td>전국</td>\n",
       "      <td>19711699</td>\n",
       "      <td>1종</td>\n",
       "      <td>19711699</td>\n",
       "      <td>1028970</td>\n",
       "      <td>325174016</td>\n",
       "      <td>약국</td>\n",
       "      <td>8.538000e+08</td>\n",
       "    </tr>\n",
       "    <tr>\n",
       "      <th>4</th>\n",
       "      <td>779748814</td>\n",
       "      <td>서울</td>\n",
       "      <td>13185805</td>\n",
       "      <td>1종</td>\n",
       "      <td>9514703</td>\n",
       "      <td>179395</td>\n",
       "      <td>76975028</td>\n",
       "      <td>계</td>\n",
       "      <td>7.881638e+08</td>\n",
       "    </tr>\n",
       "    <tr>\n",
       "      <th>5</th>\n",
       "      <td>382328645</td>\n",
       "      <td>서울</td>\n",
       "      <td>3997689</td>\n",
       "      <td>1종</td>\n",
       "      <td>241674</td>\n",
       "      <td>47024</td>\n",
       "      <td>4772046</td>\n",
       "      <td>입원</td>\n",
       "      <td>3.824160e+08</td>\n",
       "    </tr>\n",
       "    <tr>\n",
       "      <th>6</th>\n",
       "      <td>260504054</td>\n",
       "      <td>서울</td>\n",
       "      <td>6161616</td>\n",
       "      <td>1종</td>\n",
       "      <td>6246529</td>\n",
       "      <td>173783</td>\n",
       "      <td>16971787</td>\n",
       "      <td>외래</td>\n",
       "      <td>2.676845e+08</td>\n",
       "    </tr>\n",
       "    <tr>\n",
       "      <th>7</th>\n",
       "      <td>136916115</td>\n",
       "      <td>서울</td>\n",
       "      <td>3026500</td>\n",
       "      <td>1종</td>\n",
       "      <td>3026500</td>\n",
       "      <td>162602</td>\n",
       "      <td>55231195</td>\n",
       "      <td>약국</td>\n",
       "      <td>1.380633e+08</td>\n",
       "    </tr>\n",
       "    <tr>\n",
       "      <th>8</th>\n",
       "      <td>567881423</td>\n",
       "      <td>부산</td>\n",
       "      <td>10358662</td>\n",
       "      <td>1종</td>\n",
       "      <td>6091668</td>\n",
       "      <td>107768</td>\n",
       "      <td>47018904</td>\n",
       "      <td>계</td>\n",
       "      <td>5.732066e+08</td>\n",
       "    </tr>\n",
       "    <tr>\n",
       "      <th>9</th>\n",
       "      <td>342524365</td>\n",
       "      <td>부산</td>\n",
       "      <td>4513025</td>\n",
       "      <td>1종</td>\n",
       "      <td>248460</td>\n",
       "      <td>37361</td>\n",
       "      <td>4978182</td>\n",
       "      <td>입원</td>\n",
       "      <td>3.425759e+08</td>\n",
       "    </tr>\n",
       "  </tbody>\n",
       "</table>\n",
       "</div>"
      ],
      "text/plain": [
       "    기관부담금(천원)  시도     입내원일수  종별      진료건수    진료실인원       진료일수 진료형태  \\\n",
       "0  5390627489  전국  96329691  1종  61005932  1147555  478676699    계   \n",
       "1  3031441055  전국  37763697  1종   2226345   365012   43130721   입원   \n",
       "2  1512928134  전국  38854295  1종  39067888  1101057  110371962   외래   \n",
       "3   846258300  전국  19711699  1종  19711699  1028970  325174016   약국   \n",
       "4   779748814  서울  13185805  1종   9514703   179395   76975028    계   \n",
       "5   382328645  서울   3997689  1종    241674    47024    4772046   입원   \n",
       "6   260504054  서울   6161616  1종   6246529   173783   16971787   외래   \n",
       "7   136916115  서울   3026500  1종   3026500   162602   55231195   약국   \n",
       "8   567881423  부산  10358662  1종   6091668   107768   47018904    계   \n",
       "9   342524365  부산   4513025  1종    248460    37361    4978182   입원   \n",
       "\n",
       "       총진료비(천원)  \n",
       "0  5.443836e+09  \n",
       "1  3.031987e+09  \n",
       "2  1.558049e+09  \n",
       "3  8.538000e+08  \n",
       "4  7.881638e+08  \n",
       "5  3.824160e+08  \n",
       "6  2.676845e+08  \n",
       "7  1.380633e+08  \n",
       "8  5.732066e+08  \n",
       "9  3.425759e+08  "
      ]
     },
     "execution_count": 43,
     "metadata": {},
     "output_type": "execute_result"
    }
   ],
   "source": [
    "df"
   ]
  },
  {
   "cell_type": "code",
   "execution_count": 18,
   "metadata": {},
   "outputs": [
    {
     "data": {
      "text/plain": [
       "4350527"
      ]
     },
     "execution_count": 18,
     "metadata": {},
     "output_type": "execute_result"
    }
   ],
   "source": [
    "# df.info()\n",
    "df['진료실인원'].astype(int).sum()"
   ]
  },
  {
   "cell_type": "code",
   "execution_count": 23,
   "metadata": {},
   "outputs": [
    {
     "data": {
      "text/plain": [
       "1576327602"
      ]
     },
     "execution_count": 23,
     "metadata": {},
     "output_type": "execute_result"
    }
   ],
   "source": [
    "filt1 = df[df['시도']=='서울']\n",
    "filt2 = filt1['총진료비(천원)'].astype(int).sum()\n",
    "filt2\n"
   ]
  },
  {
   "cell_type": "code",
   "execution_count": 26,
   "metadata": {},
   "outputs": [
    {
     "data": {
      "text/html": [
       "<div>\n",
       "<style scoped>\n",
       "    .dataframe tbody tr th:only-of-type {\n",
       "        vertical-align: middle;\n",
       "    }\n",
       "\n",
       "    .dataframe tbody tr th {\n",
       "        vertical-align: top;\n",
       "    }\n",
       "\n",
       "    .dataframe thead th {\n",
       "        text-align: right;\n",
       "    }\n",
       "</style>\n",
       "<table border=\"1\" class=\"dataframe\">\n",
       "  <thead>\n",
       "    <tr style=\"text-align: right;\">\n",
       "      <th></th>\n",
       "      <th>기관부담금(천원)</th>\n",
       "      <th>시도</th>\n",
       "      <th>입내원일수</th>\n",
       "      <th>종별</th>\n",
       "      <th>진료건수</th>\n",
       "      <th>진료실인원</th>\n",
       "      <th>진료일수</th>\n",
       "      <th>진료형태</th>\n",
       "      <th>총진료비(천원)</th>\n",
       "    </tr>\n",
       "  </thead>\n",
       "  <tbody>\n",
       "    <tr>\n",
       "      <th>4</th>\n",
       "      <td>779748814</td>\n",
       "      <td>서울</td>\n",
       "      <td>13185805</td>\n",
       "      <td>1종</td>\n",
       "      <td>9514703</td>\n",
       "      <td>179395</td>\n",
       "      <td>76975028</td>\n",
       "      <td>계</td>\n",
       "      <td>788163801</td>\n",
       "    </tr>\n",
       "    <tr>\n",
       "      <th>5</th>\n",
       "      <td>382328645</td>\n",
       "      <td>서울</td>\n",
       "      <td>3997689</td>\n",
       "      <td>1종</td>\n",
       "      <td>241674</td>\n",
       "      <td>47024</td>\n",
       "      <td>4772046</td>\n",
       "      <td>입원</td>\n",
       "      <td>382416025</td>\n",
       "    </tr>\n",
       "    <tr>\n",
       "      <th>6</th>\n",
       "      <td>260504054</td>\n",
       "      <td>서울</td>\n",
       "      <td>6161616</td>\n",
       "      <td>1종</td>\n",
       "      <td>6246529</td>\n",
       "      <td>173783</td>\n",
       "      <td>16971787</td>\n",
       "      <td>외래</td>\n",
       "      <td>267684499</td>\n",
       "    </tr>\n",
       "    <tr>\n",
       "      <th>7</th>\n",
       "      <td>136916115</td>\n",
       "      <td>서울</td>\n",
       "      <td>3026500</td>\n",
       "      <td>1종</td>\n",
       "      <td>3026500</td>\n",
       "      <td>162602</td>\n",
       "      <td>55231195</td>\n",
       "      <td>약국</td>\n",
       "      <td>138063277</td>\n",
       "    </tr>\n",
       "  </tbody>\n",
       "</table>\n",
       "</div>"
      ],
      "text/plain": [
       "   기관부담금(천원)  시도     입내원일수  종별     진료건수   진료실인원      진료일수 진료형태   총진료비(천원)\n",
       "4  779748814  서울  13185805  1종  9514703  179395  76975028    계  788163801\n",
       "5  382328645  서울   3997689  1종   241674   47024   4772046   입원  382416025\n",
       "6  260504054  서울   6161616  1종  6246529  173783  16971787   외래  267684499\n",
       "7  136916115  서울   3026500  1종  3026500  162602  55231195   약국  138063277"
      ]
     },
     "execution_count": 26,
     "metadata": {},
     "output_type": "execute_result"
    }
   ],
   "source": [
    "filt1\n",
    "# 788163801+382416025+267684499+138063277"
   ]
  },
  {
   "cell_type": "code",
   "execution_count": 48,
   "metadata": {},
   "outputs": [
    {
     "data": {
      "text/plain": [
       "시도\n",
       "부산    9.157824e+08\n",
       "서울    1.576328e+09\n",
       "전국    1.088767e+10\n",
       "Name: 총진료비(천원), dtype: float64"
      ]
     },
     "execution_count": 48,
     "metadata": {},
     "output_type": "execute_result"
    }
   ],
   "source": [
    "df['총진료비(천원)']=df['총진료비(천원)'].astype(float)\n",
    "df.groupby('시도')['총진료비(천원)'].sum().sort_values()"
   ]
  },
  {
   "cell_type": "code",
   "execution_count": 45,
   "metadata": {},
   "outputs": [
    {
     "data": {
      "text/plain": [
       "0    5.443836e+09\n",
       "1    3.031987e+09\n",
       "2    1.558049e+09\n",
       "3    8.538000e+08\n",
       "4    7.881638e+08\n",
       "5    3.824160e+08\n",
       "6    2.676845e+08\n",
       "7    1.380633e+08\n",
       "8    5.732066e+08\n",
       "9    3.425759e+08\n",
       "Name: 총진료비(천원), dtype: float64"
      ]
     },
     "execution_count": 45,
     "metadata": {},
     "output_type": "execute_result"
    }
   ],
   "source": [
    "df['총진료비(천원)']"
   ]
  }
 ],
 "metadata": {
  "kernelspec": {
   "display_name": "Python 3",
   "language": "python",
   "name": "python3"
  },
  "language_info": {
   "codemirror_mode": {
    "name": "ipython",
    "version": 3
   },
   "file_extension": ".py",
   "mimetype": "text/x-python",
   "name": "python",
   "nbconvert_exporter": "python",
   "pygments_lexer": "ipython3",
   "version": "3.12.0"
  }
 },
 "nbformat": 4,
 "nbformat_minor": 2
}
