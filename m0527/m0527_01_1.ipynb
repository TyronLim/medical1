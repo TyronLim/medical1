{
 "cells": [
  {
   "cell_type": "code",
   "execution_count": 1436,
   "metadata": {},
   "outputs": [],
   "source": [
    "# from sklearn import svm,metrics\n",
    "# from sklearn.neighbors import KNeighborsClassifier      # 분류\n",
    "# from sklearn.neighbors import KNeighborsRegressor       # 회귀 예측\n",
    "# from sklearn.linear_model import LinearRegression       # 선형 회귀\n",
    "# from sklearn.preprocessing import PolynomialFeatures    # 다항특성을 만들어주는 라이브러리\n",
    "# from sklearn.model_selection import train_test_split\n",
    "import pandas as pd\n",
    "import numpy as np\n",
    "import matplotlib.pyplot as plt\n",
    "import matplotlib\n",
    "import requests\n",
    "import random\n",
    "import glob,os.path,re\n",
    "matplotlib.rcParams['font.family'] = 'Malgun Gothic'\n",
    "matplotlib.rcParams['font.size'] = 10\n",
    "matplotlib.rcParams['axes.unicode_minus']=False"
   ]
  },
  {
   "cell_type": "markdown",
   "metadata": {},
   "source": [
    "타이타닉 생존자 분류 모델을 구현하시오\n",
    "target : survived\n",
    "\n",
    "분류 : knn, 로지스틱, rforest"
   ]
  },
  {
   "cell_type": "code",
   "execution_count": 1437,
   "metadata": {},
   "outputs": [],
   "source": [
    "# 데이터 확인 : nan, 0, 타입\n",
    "# - pclass : Passenger Class, 승객 등급\n",
    "# - survived : 생존 여부 : target 값이 됨.\n",
    "# - name : 승객 이름\n",
    "# - sex : 승객 성별\n",
    "# - age : 승객 나이\n",
    "# - sibsp : 탑승 한 형제/배우자 수\n",
    "# - parch : 탑승 한 부모/자녀 수\n",
    "# - ticket : 티켓 번호\n",
    "# - fare : 승객 지불 요금\n",
    "# - cabin : 선실 이름\n",
    "# - embarked : 승선항 (C = 쉘 부르그, Q = 퀸즈타운, S = 사우스 햄튼)\n",
    "# - body : 사망자 확인 번호 - 분석과정에서 제외해야 함. 머신러닝에 100% 영향을 미침.\n",
    "# - home.dest : 고향/목적지"
   ]
  },
  {
   "cell_type": "code",
   "execution_count": 1438,
   "metadata": {},
   "outputs": [
    {
     "data": {
      "text/html": [
       "<div>\n",
       "<style scoped>\n",
       "    .dataframe tbody tr th:only-of-type {\n",
       "        vertical-align: middle;\n",
       "    }\n",
       "\n",
       "    .dataframe tbody tr th {\n",
       "        vertical-align: top;\n",
       "    }\n",
       "\n",
       "    .dataframe thead th {\n",
       "        text-align: right;\n",
       "    }\n",
       "</style>\n",
       "<table border=\"1\" class=\"dataframe\">\n",
       "  <thead>\n",
       "    <tr style=\"text-align: right;\">\n",
       "      <th></th>\n",
       "      <th>pclass</th>\n",
       "      <th>survived</th>\n",
       "      <th>name</th>\n",
       "      <th>sex</th>\n",
       "      <th>age</th>\n",
       "      <th>sibsp</th>\n",
       "      <th>parch</th>\n",
       "      <th>ticket</th>\n",
       "      <th>fare</th>\n",
       "      <th>cabin</th>\n",
       "      <th>embarked</th>\n",
       "      <th>body</th>\n",
       "      <th>home.dest</th>\n",
       "    </tr>\n",
       "  </thead>\n",
       "  <tbody>\n",
       "    <tr>\n",
       "      <th>0</th>\n",
       "      <td>2</td>\n",
       "      <td>1</td>\n",
       "      <td>Mellinger, Miss. Madeleine Violet</td>\n",
       "      <td>female</td>\n",
       "      <td>13.0</td>\n",
       "      <td>0</td>\n",
       "      <td>1</td>\n",
       "      <td>250644</td>\n",
       "      <td>19.5</td>\n",
       "      <td>NaN</td>\n",
       "      <td>S</td>\n",
       "      <td>NaN</td>\n",
       "      <td>England / Bennington, VT</td>\n",
       "    </tr>\n",
       "    <tr>\n",
       "      <th>1</th>\n",
       "      <td>2</td>\n",
       "      <td>1</td>\n",
       "      <td>Wells, Miss. Joan</td>\n",
       "      <td>female</td>\n",
       "      <td>4.0</td>\n",
       "      <td>1</td>\n",
       "      <td>1</td>\n",
       "      <td>29103</td>\n",
       "      <td>23.0</td>\n",
       "      <td>NaN</td>\n",
       "      <td>S</td>\n",
       "      <td>NaN</td>\n",
       "      <td>Cornwall / Akron, OH</td>\n",
       "    </tr>\n",
       "  </tbody>\n",
       "</table>\n",
       "</div>"
      ],
      "text/plain": [
       "   pclass  survived                               name     sex   age  sibsp  \\\n",
       "0       2         1  Mellinger, Miss. Madeleine Violet  female  13.0      0   \n",
       "1       2         1                  Wells, Miss. Joan  female   4.0      1   \n",
       "\n",
       "   parch  ticket  fare cabin embarked  body                 home.dest  \n",
       "0      1  250644  19.5   NaN        S   NaN  England / Bennington, VT  \n",
       "1      1   29103  23.0   NaN        S   NaN      Cornwall / Akron, OH  "
      ]
     },
     "execution_count": 1438,
     "metadata": {},
     "output_type": "execute_result"
    }
   ],
   "source": [
    "df = pd.read_csv('titanic_train.csv')\n",
    "df.head(2)"
   ]
  },
  {
   "cell_type": "code",
   "execution_count": 1439,
   "metadata": {},
   "outputs": [
    {
     "data": {
      "text/plain": [
       "cabin\n",
       "C23 C25 C27    5\n",
       "C78            4\n",
       "G6             4\n",
       "F33            3\n",
       "F4             3\n",
       "              ..\n",
       "A9             1\n",
       "E68            1\n",
       "C30            1\n",
       "E60            1\n",
       "B78            1\n",
       "Name: count, Length: 150, dtype: int64"
      ]
     },
     "execution_count": 1439,
     "metadata": {},
     "output_type": "execute_result"
    }
   ],
   "source": [
    "# df.info()\n",
    "\n",
    "df['cabin'].value_counts()"
   ]
  },
  {
   "cell_type": "code",
   "execution_count": 1440,
   "metadata": {},
   "outputs": [
    {
     "data": {
      "text/html": [
       "<div>\n",
       "<style scoped>\n",
       "    .dataframe tbody tr th:only-of-type {\n",
       "        vertical-align: middle;\n",
       "    }\n",
       "\n",
       "    .dataframe tbody tr th {\n",
       "        vertical-align: top;\n",
       "    }\n",
       "\n",
       "    .dataframe thead th {\n",
       "        text-align: right;\n",
       "    }\n",
       "</style>\n",
       "<table border=\"1\" class=\"dataframe\">\n",
       "  <thead>\n",
       "    <tr style=\"text-align: right;\">\n",
       "      <th></th>\n",
       "      <th>pclass</th>\n",
       "      <th>survived</th>\n",
       "      <th>name</th>\n",
       "      <th>sex</th>\n",
       "      <th>age</th>\n",
       "      <th>sibsp</th>\n",
       "      <th>parch</th>\n",
       "      <th>ticket</th>\n",
       "      <th>fare</th>\n",
       "      <th>cabin</th>\n",
       "      <th>embarked</th>\n",
       "      <th>body</th>\n",
       "      <th>home.dest</th>\n",
       "    </tr>\n",
       "  </thead>\n",
       "  <tbody>\n",
       "    <tr>\n",
       "      <th>0</th>\n",
       "      <td>2</td>\n",
       "      <td>1</td>\n",
       "      <td>Mellinger, Miss. Madeleine Violet</td>\n",
       "      <td>female</td>\n",
       "      <td>13.00</td>\n",
       "      <td>0</td>\n",
       "      <td>1</td>\n",
       "      <td>250644</td>\n",
       "      <td>19.5000</td>\n",
       "      <td>NaN</td>\n",
       "      <td>S</td>\n",
       "      <td>NaN</td>\n",
       "      <td>England / Bennington, VT</td>\n",
       "    </tr>\n",
       "    <tr>\n",
       "      <th>1</th>\n",
       "      <td>2</td>\n",
       "      <td>1</td>\n",
       "      <td>Wells, Miss. Joan</td>\n",
       "      <td>female</td>\n",
       "      <td>4.00</td>\n",
       "      <td>1</td>\n",
       "      <td>1</td>\n",
       "      <td>29103</td>\n",
       "      <td>23.0000</td>\n",
       "      <td>NaN</td>\n",
       "      <td>S</td>\n",
       "      <td>NaN</td>\n",
       "      <td>Cornwall / Akron, OH</td>\n",
       "    </tr>\n",
       "    <tr>\n",
       "      <th>2</th>\n",
       "      <td>2</td>\n",
       "      <td>1</td>\n",
       "      <td>Duran y More, Miss. Florentina</td>\n",
       "      <td>female</td>\n",
       "      <td>30.00</td>\n",
       "      <td>1</td>\n",
       "      <td>0</td>\n",
       "      <td>SC/PARIS 2148</td>\n",
       "      <td>13.8583</td>\n",
       "      <td>NaN</td>\n",
       "      <td>C</td>\n",
       "      <td>NaN</td>\n",
       "      <td>Barcelona, Spain / Havana, Cuba</td>\n",
       "    </tr>\n",
       "    <tr>\n",
       "      <th>3</th>\n",
       "      <td>3</td>\n",
       "      <td>0</td>\n",
       "      <td>Scanlan, Mr. James</td>\n",
       "      <td>male</td>\n",
       "      <td>NaN</td>\n",
       "      <td>0</td>\n",
       "      <td>0</td>\n",
       "      <td>36209</td>\n",
       "      <td>7.7250</td>\n",
       "      <td>NaN</td>\n",
       "      <td>Q</td>\n",
       "      <td>NaN</td>\n",
       "      <td>NaN</td>\n",
       "    </tr>\n",
       "    <tr>\n",
       "      <th>4</th>\n",
       "      <td>3</td>\n",
       "      <td>1</td>\n",
       "      <td>Bradley, Miss. Bridget Delia</td>\n",
       "      <td>female</td>\n",
       "      <td>22.00</td>\n",
       "      <td>0</td>\n",
       "      <td>0</td>\n",
       "      <td>334914</td>\n",
       "      <td>7.7250</td>\n",
       "      <td>NaN</td>\n",
       "      <td>Q</td>\n",
       "      <td>NaN</td>\n",
       "      <td>Kingwilliamstown, Co Cork, Ireland Glens Falls...</td>\n",
       "    </tr>\n",
       "    <tr>\n",
       "      <th>...</th>\n",
       "      <td>...</td>\n",
       "      <td>...</td>\n",
       "      <td>...</td>\n",
       "      <td>...</td>\n",
       "      <td>...</td>\n",
       "      <td>...</td>\n",
       "      <td>...</td>\n",
       "      <td>...</td>\n",
       "      <td>...</td>\n",
       "      <td>...</td>\n",
       "      <td>...</td>\n",
       "      <td>...</td>\n",
       "      <td>...</td>\n",
       "    </tr>\n",
       "    <tr>\n",
       "      <th>911</th>\n",
       "      <td>3</td>\n",
       "      <td>1</td>\n",
       "      <td>Dean, Miss. Elizabeth Gladys \"Millvina\"</td>\n",
       "      <td>female</td>\n",
       "      <td>0.17</td>\n",
       "      <td>1</td>\n",
       "      <td>2</td>\n",
       "      <td>C.A. 2315</td>\n",
       "      <td>20.5750</td>\n",
       "      <td>NaN</td>\n",
       "      <td>S</td>\n",
       "      <td>NaN</td>\n",
       "      <td>Devon, England Wichita, KS</td>\n",
       "    </tr>\n",
       "    <tr>\n",
       "      <th>912</th>\n",
       "      <td>3</td>\n",
       "      <td>0</td>\n",
       "      <td>Guest, Mr. Robert</td>\n",
       "      <td>male</td>\n",
       "      <td>NaN</td>\n",
       "      <td>0</td>\n",
       "      <td>0</td>\n",
       "      <td>376563</td>\n",
       "      <td>8.0500</td>\n",
       "      <td>NaN</td>\n",
       "      <td>S</td>\n",
       "      <td>NaN</td>\n",
       "      <td>NaN</td>\n",
       "    </tr>\n",
       "    <tr>\n",
       "      <th>913</th>\n",
       "      <td>3</td>\n",
       "      <td>1</td>\n",
       "      <td>Smyth, Miss. Julia</td>\n",
       "      <td>female</td>\n",
       "      <td>NaN</td>\n",
       "      <td>0</td>\n",
       "      <td>0</td>\n",
       "      <td>335432</td>\n",
       "      <td>7.7333</td>\n",
       "      <td>NaN</td>\n",
       "      <td>Q</td>\n",
       "      <td>NaN</td>\n",
       "      <td>NaN</td>\n",
       "    </tr>\n",
       "    <tr>\n",
       "      <th>914</th>\n",
       "      <td>2</td>\n",
       "      <td>1</td>\n",
       "      <td>Sincock, Miss. Maude</td>\n",
       "      <td>female</td>\n",
       "      <td>20.00</td>\n",
       "      <td>0</td>\n",
       "      <td>0</td>\n",
       "      <td>C.A. 33112</td>\n",
       "      <td>36.7500</td>\n",
       "      <td>NaN</td>\n",
       "      <td>S</td>\n",
       "      <td>NaN</td>\n",
       "      <td>Cornwall / Hancock, MI</td>\n",
       "    </tr>\n",
       "    <tr>\n",
       "      <th>915</th>\n",
       "      <td>3</td>\n",
       "      <td>0</td>\n",
       "      <td>Bourke, Mrs. John (Catherine)</td>\n",
       "      <td>female</td>\n",
       "      <td>32.00</td>\n",
       "      <td>1</td>\n",
       "      <td>1</td>\n",
       "      <td>364849</td>\n",
       "      <td>15.5000</td>\n",
       "      <td>NaN</td>\n",
       "      <td>Q</td>\n",
       "      <td>NaN</td>\n",
       "      <td>Ireland Chicago, IL</td>\n",
       "    </tr>\n",
       "  </tbody>\n",
       "</table>\n",
       "<p>916 rows × 13 columns</p>\n",
       "</div>"
      ],
      "text/plain": [
       "     pclass  survived                                     name     sex    age  \\\n",
       "0         2         1        Mellinger, Miss. Madeleine Violet  female  13.00   \n",
       "1         2         1                        Wells, Miss. Joan  female   4.00   \n",
       "2         2         1           Duran y More, Miss. Florentina  female  30.00   \n",
       "3         3         0                       Scanlan, Mr. James    male    NaN   \n",
       "4         3         1             Bradley, Miss. Bridget Delia  female  22.00   \n",
       "..      ...       ...                                      ...     ...    ...   \n",
       "911       3         1  Dean, Miss. Elizabeth Gladys \"Millvina\"  female   0.17   \n",
       "912       3         0                        Guest, Mr. Robert    male    NaN   \n",
       "913       3         1                       Smyth, Miss. Julia  female    NaN   \n",
       "914       2         1                     Sincock, Miss. Maude  female  20.00   \n",
       "915       3         0            Bourke, Mrs. John (Catherine)  female  32.00   \n",
       "\n",
       "     sibsp  parch         ticket     fare cabin embarked  body  \\\n",
       "0        0      1         250644  19.5000   NaN        S   NaN   \n",
       "1        1      1          29103  23.0000   NaN        S   NaN   \n",
       "2        1      0  SC/PARIS 2148  13.8583   NaN        C   NaN   \n",
       "3        0      0          36209   7.7250   NaN        Q   NaN   \n",
       "4        0      0         334914   7.7250   NaN        Q   NaN   \n",
       "..     ...    ...            ...      ...   ...      ...   ...   \n",
       "911      1      2      C.A. 2315  20.5750   NaN        S   NaN   \n",
       "912      0      0         376563   8.0500   NaN        S   NaN   \n",
       "913      0      0         335432   7.7333   NaN        Q   NaN   \n",
       "914      0      0     C.A. 33112  36.7500   NaN        S   NaN   \n",
       "915      1      1         364849  15.5000   NaN        Q   NaN   \n",
       "\n",
       "                                             home.dest  \n",
       "0                             England / Bennington, VT  \n",
       "1                                 Cornwall / Akron, OH  \n",
       "2                      Barcelona, Spain / Havana, Cuba  \n",
       "3                                                  NaN  \n",
       "4    Kingwilliamstown, Co Cork, Ireland Glens Falls...  \n",
       "..                                                 ...  \n",
       "911                         Devon, England Wichita, KS  \n",
       "912                                                NaN  \n",
       "913                                                NaN  \n",
       "914                             Cornwall / Hancock, MI  \n",
       "915                                Ireland Chicago, IL  \n",
       "\n",
       "[916 rows x 13 columns]"
      ]
     },
     "execution_count": 1440,
     "metadata": {},
     "output_type": "execute_result"
    }
   ],
   "source": [
    "df\n"
   ]
  },
  {
   "cell_type": "markdown",
   "metadata": {},
   "source": [
    "sex, age"
   ]
  },
  {
   "cell_type": "code",
   "execution_count": 1441,
   "metadata": {},
   "outputs": [
    {
     "name": "stderr",
     "output_type": "stream",
     "text": [
      "C:\\Users\\KOREAVC\\AppData\\Local\\Temp\\ipykernel_3364\\3007375004.py:2: FutureWarning: A value is trying to be set on a copy of a DataFrame or Series through chained assignment using an inplace method.\n",
      "The behavior will change in pandas 3.0. This inplace method will never work because the intermediate object on which we are setting values always behaves as a copy.\n",
      "\n",
      "For example, when doing 'df[col].method(value, inplace=True)', try using 'df.method({col: value}, inplace=True)' or df[col] = df[col].method(value) instead, to perform the operation inplace on the original object.\n",
      "\n",
      "\n",
      "  df['sex'].replace('female','1',inplace=True)\n",
      "C:\\Users\\KOREAVC\\AppData\\Local\\Temp\\ipykernel_3364\\3007375004.py:3: FutureWarning: A value is trying to be set on a copy of a DataFrame or Series through chained assignment using an inplace method.\n",
      "The behavior will change in pandas 3.0. This inplace method will never work because the intermediate object on which we are setting values always behaves as a copy.\n",
      "\n",
      "For example, when doing 'df[col].method(value, inplace=True)', try using 'df.method({col: value}, inplace=True)' or df[col] = df[col].method(value) instead, to perform the operation inplace on the original object.\n",
      "\n",
      "\n",
      "  df['sex'].replace('male','0',inplace=True)\n",
      "C:\\Users\\KOREAVC\\AppData\\Local\\Temp\\ipykernel_3364\\3007375004.py:4: FutureWarning: A value is trying to be set on a copy of a DataFrame or Series through chained assignment using an inplace method.\n",
      "The behavior will change in pandas 3.0. This inplace method will never work because the intermediate object on which we are setting values always behaves as a copy.\n",
      "\n",
      "For example, when doing 'df[col].method(value, inplace=True)', try using 'df.method({col: value}, inplace=True)' or df[col] = df[col].method(value) instead, to perform the operation inplace on the original object.\n",
      "\n",
      "\n",
      "  df['age'].fillna(0,inplace=True)\n",
      "C:\\Users\\KOREAVC\\AppData\\Local\\Temp\\ipykernel_3364\\3007375004.py:8: FutureWarning: A value is trying to be set on a copy of a DataFrame or Series through chained assignment using an inplace method.\n",
      "The behavior will change in pandas 3.0. This inplace method will never work because the intermediate object on which we are setting values always behaves as a copy.\n",
      "\n",
      "For example, when doing 'df[col].method(value, inplace=True)', try using 'df.method({col: value}, inplace=True)' or df[col] = df[col].method(value) instead, to perform the operation inplace on the original object.\n",
      "\n",
      "\n",
      "  df2['sex'].replace('female','1',inplace=True)\n",
      "C:\\Users\\KOREAVC\\AppData\\Local\\Temp\\ipykernel_3364\\3007375004.py:9: FutureWarning: A value is trying to be set on a copy of a DataFrame or Series through chained assignment using an inplace method.\n",
      "The behavior will change in pandas 3.0. This inplace method will never work because the intermediate object on which we are setting values always behaves as a copy.\n",
      "\n",
      "For example, when doing 'df[col].method(value, inplace=True)', try using 'df.method({col: value}, inplace=True)' or df[col] = df[col].method(value) instead, to perform the operation inplace on the original object.\n",
      "\n",
      "\n",
      "  df2['sex'].replace('male','0',inplace=True)\n",
      "C:\\Users\\KOREAVC\\AppData\\Local\\Temp\\ipykernel_3364\\3007375004.py:10: FutureWarning: A value is trying to be set on a copy of a DataFrame or Series through chained assignment using an inplace method.\n",
      "The behavior will change in pandas 3.0. This inplace method will never work because the intermediate object on which we are setting values always behaves as a copy.\n",
      "\n",
      "For example, when doing 'df[col].method(value, inplace=True)', try using 'df.method({col: value}, inplace=True)' or df[col] = df[col].method(value) instead, to perform the operation inplace on the original object.\n",
      "\n",
      "\n",
      "  df2['age'].fillna(0,inplace=True)\n"
     ]
    }
   ],
   "source": [
    "df.head(2)\n",
    "df['sex'].replace('female','1',inplace=True)\n",
    "df['sex'].replace('male','0',inplace=True)\n",
    "df['age'].fillna(0,inplace=True)\n",
    "# df\n",
    "df2 = pd.read_csv('titanic_test.csv')\n",
    "# df2\n",
    "df2['sex'].replace('female','1',inplace=True)\n",
    "df2['sex'].replace('male','0',inplace=True)\n",
    "df2['age'].fillna(0,inplace=True)\n"
   ]
  },
  {
   "cell_type": "markdown",
   "metadata": {},
   "source": [
    "embarked"
   ]
  },
  {
   "cell_type": "code",
   "execution_count": 1465,
   "metadata": {},
   "outputs": [
    {
     "name": "stderr",
     "output_type": "stream",
     "text": [
      "C:\\Users\\KOREAVC\\AppData\\Local\\Temp\\ipykernel_3364\\1880395709.py:2: FutureWarning: A value is trying to be set on a copy of a DataFrame or Series through chained assignment using an inplace method.\n",
      "The behavior will change in pandas 3.0. This inplace method will never work because the intermediate object on which we are setting values always behaves as a copy.\n",
      "\n",
      "For example, when doing 'df[col].method(value, inplace=True)', try using 'df.method({col: value}, inplace=True)' or df[col] = df[col].method(value) instead, to perform the operation inplace on the original object.\n",
      "\n",
      "\n",
      "  df2['embarked'].fillna('S',inplace=True)\n"
     ]
    },
    {
     "data": {
      "text/html": [
       "<div>\n",
       "<style scoped>\n",
       "    .dataframe tbody tr th:only-of-type {\n",
       "        vertical-align: middle;\n",
       "    }\n",
       "\n",
       "    .dataframe tbody tr th {\n",
       "        vertical-align: top;\n",
       "    }\n",
       "\n",
       "    .dataframe thead th {\n",
       "        text-align: right;\n",
       "    }\n",
       "</style>\n",
       "<table border=\"1\" class=\"dataframe\">\n",
       "  <thead>\n",
       "    <tr style=\"text-align: right;\">\n",
       "      <th></th>\n",
       "      <th>0</th>\n",
       "      <th>1</th>\n",
       "      <th>2</th>\n",
       "      <th>3</th>\n",
       "    </tr>\n",
       "  </thead>\n",
       "  <tbody>\n",
       "    <tr>\n",
       "      <th>0</th>\n",
       "      <td>True</td>\n",
       "      <td>False</td>\n",
       "      <td>False</td>\n",
       "      <td>False</td>\n",
       "    </tr>\n",
       "    <tr>\n",
       "      <th>1</th>\n",
       "      <td>True</td>\n",
       "      <td>False</td>\n",
       "      <td>False</td>\n",
       "      <td>False</td>\n",
       "    </tr>\n",
       "    <tr>\n",
       "      <th>2</th>\n",
       "      <td>False</td>\n",
       "      <td>True</td>\n",
       "      <td>False</td>\n",
       "      <td>False</td>\n",
       "    </tr>\n",
       "    <tr>\n",
       "      <th>3</th>\n",
       "      <td>False</td>\n",
       "      <td>False</td>\n",
       "      <td>True</td>\n",
       "      <td>False</td>\n",
       "    </tr>\n",
       "    <tr>\n",
       "      <th>4</th>\n",
       "      <td>False</td>\n",
       "      <td>False</td>\n",
       "      <td>True</td>\n",
       "      <td>False</td>\n",
       "    </tr>\n",
       "    <tr>\n",
       "      <th>...</th>\n",
       "      <td>...</td>\n",
       "      <td>...</td>\n",
       "      <td>...</td>\n",
       "      <td>...</td>\n",
       "    </tr>\n",
       "    <tr>\n",
       "      <th>911</th>\n",
       "      <td>True</td>\n",
       "      <td>False</td>\n",
       "      <td>False</td>\n",
       "      <td>False</td>\n",
       "    </tr>\n",
       "    <tr>\n",
       "      <th>912</th>\n",
       "      <td>True</td>\n",
       "      <td>False</td>\n",
       "      <td>False</td>\n",
       "      <td>False</td>\n",
       "    </tr>\n",
       "    <tr>\n",
       "      <th>913</th>\n",
       "      <td>False</td>\n",
       "      <td>False</td>\n",
       "      <td>True</td>\n",
       "      <td>False</td>\n",
       "    </tr>\n",
       "    <tr>\n",
       "      <th>914</th>\n",
       "      <td>True</td>\n",
       "      <td>False</td>\n",
       "      <td>False</td>\n",
       "      <td>False</td>\n",
       "    </tr>\n",
       "    <tr>\n",
       "      <th>915</th>\n",
       "      <td>False</td>\n",
       "      <td>False</td>\n",
       "      <td>True</td>\n",
       "      <td>False</td>\n",
       "    </tr>\n",
       "  </tbody>\n",
       "</table>\n",
       "<p>916 rows × 4 columns</p>\n",
       "</div>"
      ],
      "text/plain": [
       "         0      1      2      3\n",
       "0     True  False  False  False\n",
       "1     True  False  False  False\n",
       "2    False   True  False  False\n",
       "3    False  False   True  False\n",
       "4    False  False   True  False\n",
       "..     ...    ...    ...    ...\n",
       "911   True  False  False  False\n",
       "912   True  False  False  False\n",
       "913  False  False   True  False\n",
       "914   True  False  False  False\n",
       "915  False  False   True  False\n",
       "\n",
       "[916 rows x 4 columns]"
      ]
     },
     "execution_count": 1465,
     "metadata": {},
     "output_type": "execute_result"
    }
   ],
   "source": [
    "df['embarked'].fillna('S',inplace=True)\n",
    "df2['embarked'].fillna('S',inplace=True)\n",
    "# df['embarked'].value_counts()\n",
    "# df['embarked'].replace('S',0,inplace=True)\n",
    "# df['embarked'].replace('C',1,inplace=True)\n",
    "# df['embarked'].replace('Q',2,inplace=True)\n",
    "# df2['embarked'].replace('S',0,inplace=True)\n",
    "# df2['embarked'].replace('C',1,inplace=True)\n",
    "# df2['embarked'].replace('Q',2,inplace=True)\n",
    "\n",
    "# dataframe에서 생성\n",
    "one_hotEncording = df['embarked']\n",
    "pd.get_dummies(df['embarked'])\n",
    "# for i in range(3):\n",
    "#     t = pd.get_dummies(df.iloc[:,i+1], dtype=float)\n",
    "#     one_hotEncording = pd.concat([one_hotEncording,t],axis=1)\n"
   ]
  },
  {
   "cell_type": "markdown",
   "metadata": {},
   "source": [
    "name"
   ]
  },
  {
   "cell_type": "code",
   "execution_count": 1443,
   "metadata": {},
   "outputs": [
    {
     "name": "stdout",
     "output_type": "stream",
     "text": [
      "[2 2 2 1 2 1 2 2 1 1 4 3 2 1 1 1 1 1 2 1 2 2 1 1 4 1 3 2 1 5 1 1 1 1 1 1 1\n",
      " 1 1 2 4 1 1 2 1 1 1 1 1 1 3 3 1 1 3 1 1 1 1 1 1 2 3 2 1 1 3 5 1 1 1 3 1 2\n",
      " 1 1 1 2 2 2 1 6 1 2 2 2 1 2 1 3 1 2 1 1 1 2 6 1 1 1 1 2 1 1 2 2 2 1 2 1 4\n",
      " 1 1 1 1 1 3 3 3 1 1 1 2 1 6 1 2 1 5 3 2 4 1 1 1 1 1 3 2 1 2 1 1 3 1 1 3 1\n",
      " 3 1 1 1 1 1 1 2 1 1 2 4 3 3 1 1 1 1 1 1 1 1 3 1 1 1 2 1 1 1 1 1 2 1 5 1 3\n",
      " 2 2 3 3 1 1 1 1 2 1 1 1 3 1 2 2 1 3 3 1 2 3 1 1 1 1 1 1 1 1 1 2 2 3 1 2 1\n",
      " 1 1 2 1 3 1 2 1 6 1 1 1 3 1 3 1 2 1 3 4 1 1 2 3 3 1 1 2 1 1 4 1 1 1 1 1 2\n",
      " 2 1 3 3 2 3 1 1 2 1 1 4 2 1 1 1 1 1 1 3 1 1 1 3 1 1 1 1 1 3 2 1 1 2 2 1 1\n",
      " 1 1 2 1 3 4 1 1 1 2 1 3 1 1 1 1 1 1 1 3 1 1 3 1 1 4 1 5 1 2 3 1 3 2 1 2 1\n",
      " 1 2 3 1 6 2 2 1 1 1 3 1 2 2 3 2 1 1 1 3 1 1 3 2 1 1 1 1 3 2 2 1 1 3 2 1 1\n",
      " 3 2 1 1 1 3 2 2 6 1 1 1 1 1 3 2 1 1 2 1 1 1 1 2 1 1 1 2 1 4 2 1 1 1 1 1 1\n",
      " 1 3 1 1 1 6 1 1 2 1 1 1 2 1 1 2 1 1 1 1 3 1 2 2 1 3 1 2 1 1 4 4 3 1 1 2 1\n",
      " 3 1 2 1 2 1 1 1 2 1 3 2 2 1 3 6 2 1 3 1 4 1 1 1 1 2 3 2 1 3 2 1 1 2 1 3 1\n",
      " 1 1 4 3 1 3 1 1 1 1 3 1 1 1 1 1 3 1 2 1 1 3 1 3 1 1 1 1 2 1 1 1 3 1 1 4 1\n",
      " 3 3 3 1 1 3 1 1 1 1 2 2 1 1 6 2 1 1 1 1 1 1 1 1 3 1 1 2 2 1 3 1 1 1 3 1 1\n",
      " 2 3 1 6 2 1 2 1 3 1 6 3 3 1 4 1 1 1 3 3 1 1 3 2 2 1 1 1 1 1 2 1 3 2 1 2 3\n",
      " 1 1 1 1 1 1 1 2 3 3 3 1 3 2 1 1 3 1 3 1 4 1 1 3 3 4 2 1 1 4 1 1 1 1 2 1 1\n",
      " 2 4 3 1 1 1 1 1 2 2 3 1 1 1 2 3 2 1 1 3 1 3 1 2 1 3 1 2 1 3 2 1 1 1 2 1 2\n",
      " 3 1 1 1 5 1 1 3 2 4 2 2 3 1 3 1 1 1 3 4 1 2 1 3 1 1 5 1 3 1 2 1 1 2 1 6 4\n",
      " 1 1 2 1 1 1 2 4 1 2 2 1 6 1 1 1 1 1 3 2 2 1 1 1 1 1 1 2 1 4 1 3 1 1 1 1 4\n",
      " 2 1 2 2 2 1 3 2 1 1 2 1 3 2 5 1 2 3 2 3 1 4 2 2 1 1 3 1 2 1 1 2 1 3 3 2 1\n",
      " 2 1 3 2 3 4 2 1 3 1 1 3 2 1 2 1 1 1 3 2 2 1 2 2 1 4 1 1 2 1 2 1 1 1 4 1 3\n",
      " 2 2 2 1 1 2 1 1 1 1 1 3 1 1 1 2 2 3 1 1 1 4 1 1 1 1 1 1 3 1 1 3 1 1 1 2 4\n",
      " 4 1 3 2 2 4 3 3 3 1 1 1 2 6 4 1 2 4 1 1 2 4 1 1 1 1 1 1 1 1 4 2 1 1 4 2 1\n",
      " 3 1 2 1 1 1 1 1 1 3 3 1 1 1 1 2 1 3 1 3 2 3 1 2 1 2 2 3]\n"
     ]
    }
   ],
   "source": [
    "name = df['name'].to_numpy()\n",
    "for i, j in enumerate(name):\n",
    "    if j[j.find('.')-2:j.find('.')] == 'Mr':\n",
    "        name[i]=1\n",
    "    elif j[j.find('.')-2:j.find('.')] == 'Mr':\n",
    "        name[i]=1\n",
    "    elif j[j.find('.')-2:j.find('.')] == 'ss':\n",
    "        name[i]=2\n",
    "    elif j[j.find('.')-2:j.find('.')] == 'dy':\n",
    "        name[i]=2\n",
    "    elif j[j.find('.')-2:j.find('.')] == 'Ms':\n",
    "        name[i]=2\n",
    "    elif j[j.find('.')-2:j.find('.')] == 'rs':\n",
    "        name[i]=3\n",
    "    elif j[j.find('.')-2:j.find('.')] == 'er':\n",
    "        name[i]=4\n",
    "    elif j[j.find('.')-2:j.find('.')] == 'Dr':\n",
    "        name[i]=5\n",
    "    else:\n",
    "        name[i]=6\n",
    "print(name)\n",
    "df['name']=name"
   ]
  },
  {
   "cell_type": "code",
   "execution_count": 1444,
   "metadata": {},
   "outputs": [
    {
     "name": "stdout",
     "output_type": "stream",
     "text": [
      "[1 2 1 1 1 2 1 6 1 1 1 1 4 2 2 1 3 1 3 1 1 4 1 2 4 3 1 1 1 2 2 2 2 1 3 1 1\n",
      " 1 1 1 1 1 1 4 2 4 1 3 4 1 2 1 1 3 1 1 3 3 2 2 1 6 2 4 2 2 1 1 1 2 3 1 1 1\n",
      " 2 2 1 3 2 1 1 2 1 1 2 2 1 1 1 1 1 1 1 1 1 1 1 2 1 3 1 1 3 3 1 1 4 1 1 1 1\n",
      " 1 1 1 2 1 1 1 1 2 1 4 1 1 1 1 1 1 3 1 1 1 1 1 1 1 1 2 1 2 1 3 1 1 1 1 2 1\n",
      " 2 1 2 1 1 2 1 1 3 3 1 1 1 1 1 1 1 3 1 1 1 1 1 1 2 1 3 6 1 3 2 3 2 1 3 1 3\n",
      " 2 3 1 1 1 6 3 3 1 1 2 1 3 1 1 1 1 1 2 1 1 1 4 1 1 2 1 1 1 2 1 1 1 1 1 3 3\n",
      " 3 2 3 1 2 2 2 2 3 1 1 2 1 1 2 1 1 4 1 2 1 1 1 4 1 1 3 4 1 1 4 1 1 1 3 1 1\n",
      " 1 1 1 1 2 1 2 1 1 1 3 1 2 1 1 1 3 3 2 2 2 1 2 6 2 2 1 1 1 2 1 2 1 3 2 3 1\n",
      " 3 4 1 1 1 2 1 1 2 1 3 1 2 1 3 1 1 1 1 3 1 2 1 2 1 1 2 1 3 1 3 1 4 1 2 1 1\n",
      " 2 1 2 1 1 3 3 2 4 4 3 3 3 2 1 1 1 2 2 1 1 1 1 4 1 2 1 1 1 1 1 3 3 3 1 1 1\n",
      " 1 1 1 1 6 1 1 1 4 1 1 6 1 1 1 3 2 4 1 3 1 1 2]\n"
     ]
    }
   ],
   "source": [
    "name2 = df2['name'].to_numpy()\n",
    "for i, j in enumerate(name2):\n",
    "    if j[j.find('.')-2:j.find('.')] == 'Mr':\n",
    "        name2[i]=1\n",
    "    elif j[j.find('.')-2:j.find('.')] == 'Mr':\n",
    "        name2[i]=1\n",
    "    elif j[j.find('.')-2:j.find('.')] == 'ss':\n",
    "        name2[i]=2\n",
    "    elif j[j.find('.')-2:j.find('.')] == 'dy':\n",
    "        name2[i]=2\n",
    "    elif j[j.find('.')-2:j.find('.')] == 'Ms':\n",
    "        name2[i]=2\n",
    "    elif j[j.find('.')-2:j.find('.')] == 'rs':\n",
    "        name2[i]=3\n",
    "    elif j[j.find('.')-2:j.find('.')] == 'er':\n",
    "        name2[i]=4\n",
    "    elif j[j.find('.')-2:j.find('.')] == 'Dr':\n",
    "        name2[i]=5\n",
    "    else:\n",
    "        name2[i]=6\n",
    "print(name2)\n",
    "df2['name2']=name2"
   ]
  },
  {
   "cell_type": "markdown",
   "metadata": {},
   "source": [
    "cabin"
   ]
  },
  {
   "cell_type": "code",
   "execution_count": 1445,
   "metadata": {},
   "outputs": [
    {
     "name": "stdout",
     "output_type": "stream",
     "text": [
      "[72 72 72 72 72 72 69 72 67 69 72 72 67 72 72 72 72 72 72 72 72 72 72 72\n",
      " 72 68 72 72 72 66 65 72 72 67 72 72 72 72 72 72 72 70 72 72 72 72 72 72\n",
      " 67 67 69 72 72 72 66 72 72 67 72 72 72 72 72 72 72 72 68 72 72 72 72 72\n",
      " 72 68 72 72 72 72 72 67 67 66 84 72 72 66 72 72 72 66 72 72 72 72 72 72\n",
      " 65 72 72 65 72 72 72 72 72 72 72 72 72 72 66 72 72 72 72 72 72 71 72 72\n",
      " 72 72 72 72 72 72 72 72 67 67 68 72 72 68 67 72 72 69 72 72 72 72 72 66\n",
      " 66 72 69 72 67 72 72 66 72 72 72 72 72 72 72 72 72 65 72 68 69 72 67 72\n",
      " 72 72 72 72 72 68 72 72 72 72 72 69 66 72 68 72 70 72 72 72 72 72 72 72\n",
      " 69 68 72 65 72 72 68 72 65 72 70 72 68 65 66 72 72 72 72 68 69 72 72 72\n",
      " 72 72 71 67 72 68 72 72 69 72 67 72 72 72 66 72 72 65 66 72 70 72 72 72\n",
      " 68 72 72 72 72 67 67 72 72 72 72 72 70 67 72 67 72 67 71 72 72 67 67 69\n",
      " 72 72 72 72 72 72 72 72 72 72 72 70 72 72 68 72 72 69 72 72 72 72 72 72\n",
      " 72 72 72 68 72 72 72 72 72 72 72 72 66 72 72 72 72 72 67 72 72 66 72 72\n",
      " 67 72 72 69 70 72 72 72 72 72 72 72 72 72 67 72 68 72 72 66 72 72 72 72\n",
      " 72 72 72 72 72 69 72 72 72 72 72 72 72 72 72 72 66 72 72 72 72 72 72 68\n",
      " 72 66 72 72 67 66 72 66 72 72 72 72 70 72 72 68 72 72 65 72 72 72 72 67\n",
      " 72 66 72 72 67 72 72 72 72 66 72 72 72 72 72 72 68 72 72 72 66 72 72 72\n",
      " 72 67 72 72 67 72 72 72 72 72 69 72 72 70 72 72 72 72 72 72 72 72 72 72\n",
      " 72 66 72 67 72 72 72 72 72 72 72 72 68 67 72 72 72 72 65 66 72 72 72 66\n",
      " 72 72 72 72 72 72 72 72 72 72 72 72 72 72 67 72 72 72 68 72 65 72 72 72\n",
      " 72 72 72 72 72 72 72 72 72 66 72 66 72 72 72 72 67 67 72 72 67 72 72 72\n",
      " 72 72 72 72 67 72 66 67 72 72 72 72 70 72 72 72 72 65 72 69 72 72 72 72\n",
      " 72 67 72 72 72 72 72 67 72 72 67 72 72 72 72 72 72 66 72 65 72 72 72 72\n",
      " 72 72 67 72 72 72 72 72 72 67 72 72 68 72 72 67 67 72 72 72 66 72 72 72\n",
      " 72 72 72 72 72 72 72 72 72 72 72 72 72 72 72 72 72 72 72 66 72 72 72 72\n",
      " 72 72 72 72 72 72 72 72 69 72 72 72 69 72 72 72 72 72 72 72 72 72 72 72\n",
      " 70 72 72 72 72 72 72 72 70 72 72 72 72 72 69 72 72 72 72 72 67 72 72 72\n",
      " 72 72 72 72 69 72 66 72 72 72 72 72 72 72 67 72 72 72 72 72 72 72 65 72\n",
      " 72 68 72 72 72 72 72 72 72 72 72 72 69 70 72 70 66 68 72 72 72 72 68 72\n",
      " 66 69 72 67 68 67 72 68 69 69 72 67 72 67 72 72 72 70 72 67 72 72 72 72\n",
      " 72 72 72 72 72 72 72 72 72 72 72 67 72 72 72 72 72 72 72 72 72 72 66 67\n",
      " 68 72 72 67 72 72 67 69 66 72 72 68 69 72 72 72 72 72 72 72 72 72 67 72\n",
      " 72 72 72 72 72 67 72 72 72 72 72 72 72 67 65 71 72 67 72 72 69 72 72 67\n",
      " 72 68 72 67 72 72 69 72 72 72 72 72 72 72 67 72 72 72 66 72 72 67 72 72\n",
      " 72 72 72 72 72 69 72 72 72 72 72 72 72 67 72 72 72 72 72 72 72 72 72 72\n",
      " 72 72 72 72 72 72 72 67 72 72 72 72 66 72 72 72 72 69 66 67 72 72 72 72\n",
      " 72 69 72 72 72 69 72 67 72 72 72 72 68 65 72 72 72 72 72 72 72 72 72 72\n",
      " 72 72 65 72 72 72 72 67 72 67 72 72 72 66 72 72 72 67 72 72 72 66 72 72\n",
      " 72 72 72 72]\n",
      "[72 72 72 72 72 71 69 67 72 72 72 72 72 72 66 72 72 65 72 72 72 72 72 66\n",
      " 72 72 72 72 72 72 72 66 70 67 68 72 72 72 72 72 72 72 68 72 72 72 72 68\n",
      " 72 72 72 72 72 72 72 72 68 72 72 72 72 66 72 72 72 72 72 72 72 72 72 72\n",
      " 68 72 72 68 72 67 72 72 67 72 72 69 72 72 72 72 72 72 72 72 72 72 72 66\n",
      " 72 72 72 67 72 72 72 72 72 72 67 72 72 72 65 67 72 72 72 72 72 66 72 72\n",
      " 66 72 72 72 72 72 72 72 72 72 72 72 72 67 65 72 72 72 72 72 72 66 72 72\n",
      " 72 67 72 72 72 72 72 68 72 72 72 72 67 66 72 72 72 69 68 68 72 72 72 72\n",
      " 72 72 72 66 72 72 67 72 72 67 72 66 72 72 72 72 72 72 72 72 72 72 72 72\n",
      " 72 72 69 70 72 72 72 72 72 72 72 66 67 72 72 72 72 72 72 67 72 72 72 72\n",
      " 72 72 72 72 67 72 72 69 70 72 72 72 72 72 72 68 72 72 72 72 72 72 72 72\n",
      " 72 72 72 72 72 72 67 72 72 72 72 72 72 72 66 72 72 72 72 72 72 72 72 69\n",
      " 72 72 72 70 72 72 65 67 72 72 72 68 68 66 72 72 72 72 67 72 72 72 72 72\n",
      " 72 69 72 72 72 72 72 72 72 72 72 72 72 72 72 72 72 72 67 72 72 72 72 72\n",
      " 72 72 72 72 72 68 72 67 72 67 72 72 72 72 72 72 72 72 66 72 72 72 72 72\n",
      " 66 72 72 72 67 72 66 72 69 72 72 66 72 72 66 72 72 72 66 72 72 72 72 72\n",
      " 72 72 70 72 72 72 66 72 72 72 67 72 66 72 72 72 72 72 72 68 72 66 65 69\n",
      " 72 72 72 72 72 72 72 70 72]\n"
     ]
    },
    {
     "name": "stderr",
     "output_type": "stream",
     "text": [
      "C:\\Users\\KOREAVC\\AppData\\Local\\Temp\\ipykernel_3364\\3034108257.py:1: FutureWarning: A value is trying to be set on a copy of a DataFrame or Series through chained assignment using an inplace method.\n",
      "The behavior will change in pandas 3.0. This inplace method will never work because the intermediate object on which we are setting values always behaves as a copy.\n",
      "\n",
      "For example, when doing 'df[col].method(value, inplace=True)', try using 'df.method({col: value}, inplace=True)' or df[col] = df[col].method(value) instead, to perform the operation inplace on the original object.\n",
      "\n",
      "\n",
      "  df['cabin'].fillna('H',inplace=True)\n",
      "C:\\Users\\KOREAVC\\AppData\\Local\\Temp\\ipykernel_3364\\3034108257.py:10: FutureWarning: A value is trying to be set on a copy of a DataFrame or Series through chained assignment using an inplace method.\n",
      "The behavior will change in pandas 3.0. This inplace method will never work because the intermediate object on which we are setting values always behaves as a copy.\n",
      "\n",
      "For example, when doing 'df[col].method(value, inplace=True)', try using 'df.method({col: value}, inplace=True)' or df[col] = df[col].method(value) instead, to perform the operation inplace on the original object.\n",
      "\n",
      "\n",
      "  df2['cabin'].fillna('H',inplace=True)\n"
     ]
    }
   ],
   "source": [
    "df['cabin'].fillna('H',inplace=True)\n",
    "df['cabin'].replace(0,'H',inplace=True)\n",
    "cabin = df['cabin'].to_numpy()\n",
    "for i, j in enumerate(cabin):\n",
    "    cabin[i] = ord(j[0])\n",
    "print(cabin)\n",
    "df['cabin']=cabin\n",
    "\n",
    "\n",
    "df2['cabin'].fillna('H',inplace=True)\n",
    "df2['cabin'].replace(0,'H',inplace=True)\n",
    "cabin2 = df2['cabin'].to_numpy()\n",
    "for i, j in enumerate(cabin2):\n",
    "    cabin2[i] = ord(j[0])\n",
    "print(cabin2)\n",
    "df2['cabin']=cabin2"
   ]
  },
  {
   "cell_type": "code",
   "execution_count": 1446,
   "metadata": {},
   "outputs": [],
   "source": [
    "train_into = df[['pclass','name','sex','age','sibsp','parch','fare','cabin','embarked']]\n",
    "train_target = df['survived']\n",
    "test_into = df2[['pclass','name','sex','age','sibsp','parch','fare','cabin','embarked']]\n",
    "test_target = df2['survived']"
   ]
  },
  {
   "cell_type": "code",
   "execution_count": 1447,
   "metadata": {},
   "outputs": [],
   "source": [
    "from sklearn.preprocessing import StandardScaler\n",
    "ss = StandardScaler()\n",
    "ss.fit(train_into)\n",
    "train_scaled = ss.transform(train_into)\n",
    "test_scaled = ss.transform(test_into)\n"
   ]
  },
  {
   "cell_type": "code",
   "execution_count": 1448,
   "metadata": {},
   "outputs": [
    {
     "data": {
      "text/html": [
       "<div>\n",
       "<style scoped>\n",
       "    .dataframe tbody tr th:only-of-type {\n",
       "        vertical-align: middle;\n",
       "    }\n",
       "\n",
       "    .dataframe tbody tr th {\n",
       "        vertical-align: top;\n",
       "    }\n",
       "\n",
       "    .dataframe thead th {\n",
       "        text-align: right;\n",
       "    }\n",
       "</style>\n",
       "<table border=\"1\" class=\"dataframe\">\n",
       "  <thead>\n",
       "    <tr style=\"text-align: right;\">\n",
       "      <th></th>\n",
       "      <th>pclass</th>\n",
       "      <th>name</th>\n",
       "      <th>sex</th>\n",
       "      <th>age</th>\n",
       "      <th>sibsp</th>\n",
       "      <th>parch</th>\n",
       "      <th>fare</th>\n",
       "      <th>cabin</th>\n",
       "      <th>embarked</th>\n",
       "    </tr>\n",
       "  </thead>\n",
       "  <tbody>\n",
       "    <tr>\n",
       "      <th>0</th>\n",
       "      <td>2</td>\n",
       "      <td>2</td>\n",
       "      <td>1</td>\n",
       "      <td>13.00</td>\n",
       "      <td>0</td>\n",
       "      <td>1</td>\n",
       "      <td>19.5000</td>\n",
       "      <td>72</td>\n",
       "      <td>0</td>\n",
       "    </tr>\n",
       "    <tr>\n",
       "      <th>1</th>\n",
       "      <td>2</td>\n",
       "      <td>2</td>\n",
       "      <td>1</td>\n",
       "      <td>4.00</td>\n",
       "      <td>1</td>\n",
       "      <td>1</td>\n",
       "      <td>23.0000</td>\n",
       "      <td>72</td>\n",
       "      <td>0</td>\n",
       "    </tr>\n",
       "    <tr>\n",
       "      <th>2</th>\n",
       "      <td>2</td>\n",
       "      <td>2</td>\n",
       "      <td>1</td>\n",
       "      <td>30.00</td>\n",
       "      <td>1</td>\n",
       "      <td>0</td>\n",
       "      <td>13.8583</td>\n",
       "      <td>72</td>\n",
       "      <td>1</td>\n",
       "    </tr>\n",
       "    <tr>\n",
       "      <th>3</th>\n",
       "      <td>3</td>\n",
       "      <td>1</td>\n",
       "      <td>0</td>\n",
       "      <td>0.00</td>\n",
       "      <td>0</td>\n",
       "      <td>0</td>\n",
       "      <td>7.7250</td>\n",
       "      <td>72</td>\n",
       "      <td>2</td>\n",
       "    </tr>\n",
       "    <tr>\n",
       "      <th>4</th>\n",
       "      <td>3</td>\n",
       "      <td>2</td>\n",
       "      <td>1</td>\n",
       "      <td>22.00</td>\n",
       "      <td>0</td>\n",
       "      <td>0</td>\n",
       "      <td>7.7250</td>\n",
       "      <td>72</td>\n",
       "      <td>2</td>\n",
       "    </tr>\n",
       "    <tr>\n",
       "      <th>...</th>\n",
       "      <td>...</td>\n",
       "      <td>...</td>\n",
       "      <td>...</td>\n",
       "      <td>...</td>\n",
       "      <td>...</td>\n",
       "      <td>...</td>\n",
       "      <td>...</td>\n",
       "      <td>...</td>\n",
       "      <td>...</td>\n",
       "    </tr>\n",
       "    <tr>\n",
       "      <th>911</th>\n",
       "      <td>3</td>\n",
       "      <td>2</td>\n",
       "      <td>1</td>\n",
       "      <td>0.17</td>\n",
       "      <td>1</td>\n",
       "      <td>2</td>\n",
       "      <td>20.5750</td>\n",
       "      <td>72</td>\n",
       "      <td>0</td>\n",
       "    </tr>\n",
       "    <tr>\n",
       "      <th>912</th>\n",
       "      <td>3</td>\n",
       "      <td>1</td>\n",
       "      <td>0</td>\n",
       "      <td>0.00</td>\n",
       "      <td>0</td>\n",
       "      <td>0</td>\n",
       "      <td>8.0500</td>\n",
       "      <td>72</td>\n",
       "      <td>0</td>\n",
       "    </tr>\n",
       "    <tr>\n",
       "      <th>913</th>\n",
       "      <td>3</td>\n",
       "      <td>2</td>\n",
       "      <td>1</td>\n",
       "      <td>0.00</td>\n",
       "      <td>0</td>\n",
       "      <td>0</td>\n",
       "      <td>7.7333</td>\n",
       "      <td>72</td>\n",
       "      <td>2</td>\n",
       "    </tr>\n",
       "    <tr>\n",
       "      <th>914</th>\n",
       "      <td>2</td>\n",
       "      <td>2</td>\n",
       "      <td>1</td>\n",
       "      <td>20.00</td>\n",
       "      <td>0</td>\n",
       "      <td>0</td>\n",
       "      <td>36.7500</td>\n",
       "      <td>72</td>\n",
       "      <td>0</td>\n",
       "    </tr>\n",
       "    <tr>\n",
       "      <th>915</th>\n",
       "      <td>3</td>\n",
       "      <td>3</td>\n",
       "      <td>1</td>\n",
       "      <td>32.00</td>\n",
       "      <td>1</td>\n",
       "      <td>1</td>\n",
       "      <td>15.5000</td>\n",
       "      <td>72</td>\n",
       "      <td>2</td>\n",
       "    </tr>\n",
       "  </tbody>\n",
       "</table>\n",
       "<p>916 rows × 9 columns</p>\n",
       "</div>"
      ],
      "text/plain": [
       "     pclass name sex    age  sibsp  parch     fare cabin  embarked\n",
       "0         2    2   1  13.00      0      1  19.5000    72         0\n",
       "1         2    2   1   4.00      1      1  23.0000    72         0\n",
       "2         2    2   1  30.00      1      0  13.8583    72         1\n",
       "3         3    1   0   0.00      0      0   7.7250    72         2\n",
       "4         3    2   1  22.00      0      0   7.7250    72         2\n",
       "..      ...  ...  ..    ...    ...    ...      ...   ...       ...\n",
       "911       3    2   1   0.17      1      2  20.5750    72         0\n",
       "912       3    1   0   0.00      0      0   8.0500    72         0\n",
       "913       3    2   1   0.00      0      0   7.7333    72         2\n",
       "914       2    2   1  20.00      0      0  36.7500    72         0\n",
       "915       3    3   1  32.00      1      1  15.5000    72         2\n",
       "\n",
       "[916 rows x 9 columns]"
      ]
     },
     "execution_count": 1448,
     "metadata": {},
     "output_type": "execute_result"
    }
   ],
   "source": [
    "train_into"
   ]
  },
  {
   "cell_type": "code",
   "execution_count": 1449,
   "metadata": {},
   "outputs": [
    {
     "data": {
      "text/plain": [
       "<Axes: >"
      ]
     },
     "execution_count": 1449,
     "metadata": {},
     "output_type": "execute_result"
    },
    {
     "data": {
      "image/png": "[encoded data removed]",
      "text/plain": [
       "<Figure size 640x480 with 2 Axes>"
      ]
     },
     "metadata": {},
     "output_type": "display_data"
    }
   ],
   "source": [
    "all = df[['pclass','name','sex','age','sibsp','parch','fare','cabin','embarked','survived']]\n",
    "import seaborn as sns\n",
    "sns.heatmap(all.corr(),annot=True)"
   ]
  },
  {
   "cell_type": "code",
   "execution_count": 1450,
   "metadata": {},
   "outputs": [
    {
     "data": {
      "image/png": "[encoded data removed]",
      "text/plain": [
       "<Figure size 640x480 with 1 Axes>"
      ]
     },
     "metadata": {},
     "output_type": "display_data"
    }
   ],
   "source": [
    "ax = sns.countplot(x='pclass',hue='survived',data=all)\n"
   ]
  },
  {
   "cell_type": "markdown",
   "metadata": {},
   "source": [
    "knn"
   ]
  },
  {
   "cell_type": "code",
   "execution_count": 1451,
   "metadata": {},
   "outputs": [
    {
     "name": "stdout",
     "output_type": "stream",
     "text": [
      "0.851528384279476\n",
      "0.8015267175572519\n"
     ]
    }
   ],
   "source": [
    "from sklearn.neighbors import KNeighborsClassifier\n",
    "kf = KNeighborsClassifier()\n",
    "kf.fit(train_scaled,train_target)\n",
    "print(kf.score(train_scaled,train_target))\n",
    "print(kf.score(test_scaled,test_target))"
   ]
  },
  {
   "cell_type": "code",
   "execution_count": 1452,
   "metadata": {},
   "outputs": [],
   "source": [
    "from sklearn.model_selection import cross_validate\n",
    "from xgboost import XGBClassifier\n"
   ]
  },
  {
   "cell_type": "markdown",
   "metadata": {},
   "source": [
    "logistic"
   ]
  },
  {
   "cell_type": "code",
   "execution_count": 1453,
   "metadata": {},
   "outputs": [
    {
     "name": "stdout",
     "output_type": "stream",
     "text": [
      "0.7936681222707423\n",
      "0.7786259541984732\n"
     ]
    }
   ],
   "source": [
    "from sklearn.linear_model import LogisticRegression\n",
    "lr = LogisticRegression()\n",
    "lr.fit(train_scaled,train_target)\n",
    "print(lr.score(train_scaled,train_target))\n",
    "print(lr.score(test_scaled,test_target))"
   ]
  },
  {
   "cell_type": "markdown",
   "metadata": {},
   "source": [
    "logistic 반복, 제한"
   ]
  },
  {
   "cell_type": "code",
   "execution_count": 1454,
   "metadata": {},
   "outputs": [
    {
     "name": "stdout",
     "output_type": "stream",
     "text": [
      "0.7914847161572053\n",
      "0.7786259541984732\n"
     ]
    },
    {
     "name": "stderr",
     "output_type": "stream",
     "text": [
      "c:\\Python312\\Lib\\site-packages\\sklearn\\linear_model\\_logistic.py:469: ConvergenceWarning: lbfgs failed to converge (status=1):\n",
      "STOP: TOTAL NO. of ITERATIONS REACHED LIMIT.\n",
      "\n",
      "Increase the number of iterations (max_iter) or scale the data as shown in:\n",
      "    https://scikit-learn.org/stable/modules/preprocessing.html\n",
      "Please also refer to the documentation for alternative solver options:\n",
      "    https://scikit-learn.org/stable/modules/linear_model.html#logistic-regression\n",
      "  n_iter_i = _check_optimize_result(\n"
     ]
    }
   ],
   "source": [
    "lr2 = LogisticRegression(C=10,max_iter=5)\n",
    "lr2.fit(train_scaled,train_target)\n",
    "print(lr2.score(train_scaled,train_target))\n",
    "print(lr2.score(test_scaled,test_target))"
   ]
  },
  {
   "cell_type": "markdown",
   "metadata": {},
   "source": [
    "경사하강"
   ]
  },
  {
   "cell_type": "code",
   "execution_count": 1455,
   "metadata": {},
   "outputs": [
    {
     "name": "stdout",
     "output_type": "stream",
     "text": [
      "0.8024017467248908\n",
      "0.7786259541984732\n"
     ]
    },
    {
     "name": "stderr",
     "output_type": "stream",
     "text": [
      "c:\\Python312\\Lib\\site-packages\\sklearn\\linear_model\\_stochastic_gradient.py:723: ConvergenceWarning: Maximum number of iteration reached before convergence. Consider increasing max_iter to improve the fit.\n",
      "  warnings.warn(\n"
     ]
    }
   ],
   "source": [
    "from sklearn.linear_model import SGDClassifier\n",
    "sg = SGDClassifier(loss='log_loss',max_iter=10,random_state=1)\n",
    "sg.fit(train_scaled,train_target)\n",
    "print(sg.score(train_scaled,train_target))\n",
    "print(sg.score(test_scaled,test_target))"
   ]
  },
  {
   "cell_type": "markdown",
   "metadata": {},
   "source": [
    "partial"
   ]
  },
  {
   "cell_type": "code",
   "execution_count": 1456,
   "metadata": {},
   "outputs": [
    {
     "name": "stdout",
     "output_type": "stream",
     "text": [
      "0.7903930131004366\n",
      "0.7684478371501272\n"
     ]
    }
   ],
   "source": [
    "classes = np.unique(train_target)\n",
    "sg.partial_fit(train_scaled,train_target,classes=classes)\n",
    "print(sg.score(train_scaled,train_target))\n",
    "print(sg.score(test_scaled,test_target))"
   ]
  },
  {
   "cell_type": "code",
   "execution_count": 1457,
   "metadata": {},
   "outputs": [
    {
     "data": {
      "text/plain": [
       "[<matplotlib.lines.Line2D at 0x29995615a90>]"
      ]
     },
     "execution_count": 1457,
     "metadata": {},
     "output_type": "execute_result"
    },
    {
     "data": {
      "image/png": "[encoded data removed]",
      "text/plain": [
       "<Figure size 640x480 with 1 Axes>"
      ]
     },
     "metadata": {},
     "output_type": "display_data"
    }
   ],
   "source": [
    "train = []\n",
    "test = []\n",
    "for i in range(300):\n",
    "    sg.partial_fit(train_scaled,train_target,classes=classes)\n",
    "    train.append(sg.score(train_scaled,train_target))\n",
    "    test.append(sg.score(test_scaled,test_target))\n",
    "\n",
    "plt.plot(train)\n",
    "plt.plot(test)"
   ]
  },
  {
   "cell_type": "code",
   "execution_count": 1458,
   "metadata": {},
   "outputs": [
    {
     "name": "stdout",
     "output_type": "stream",
     "text": [
      "0.980349344978166\n",
      "0.7811704834605598\n"
     ]
    }
   ],
   "source": [
    "from sklearn.ensemble import RandomForestClassifier\n",
    "rf = RandomForestClassifier(n_jobs=-1)\n",
    "rf.fit(train_scaled,train_target)\n",
    "print(rf.score(train_scaled,train_target))\n",
    "print(rf.score(test_scaled,test_target))"
   ]
  },
  {
   "cell_type": "code",
   "execution_count": 1459,
   "metadata": {},
   "outputs": [
    {
     "name": "stdout",
     "output_type": "stream",
     "text": [
      "0.9825326713334676\n",
      "0.8111190306486102\n"
     ]
    }
   ],
   "source": [
    "scores2 = cross_validate(rf,train_scaled,train_target,return_train_score=True,n_jobs=-1)\n",
    "\n",
    "print(np.mean(scores2['train_score']))\n",
    "print(np.mean(scores2['test_score']))"
   ]
  },
  {
   "cell_type": "code",
   "execution_count": 1460,
   "metadata": {},
   "outputs": [
    {
     "name": "stdout",
     "output_type": "stream",
     "text": [
      "0.980349344978166\n",
      "0.7251908396946565\n",
      "0.975435555654955\n",
      "0.8056545497742931\n"
     ]
    }
   ],
   "source": [
    "from sklearn.tree import DecisionTreeClassifier\n",
    "tree = DecisionTreeClassifier(max_depth=50)\n",
    "tree.fit(train_scaled,train_target)\n",
    "print(tree.score(train_scaled,train_target))\n",
    "print(tree.score(test_scaled,test_target))\n",
    "\n",
    "xgb = XGBClassifier(tree_method='hist')\n",
    "scores = cross_validate(xgb,train_scaled,train_target,return_train_score=True,n_jobs=-1)\n",
    "\n",
    "print(np.mean(scores['train_score']))\n",
    "print(np.mean(scores['test_score']))"
   ]
  },
  {
   "cell_type": "code",
   "execution_count": 1461,
   "metadata": {},
   "outputs": [
    {
     "name": "stdout",
     "output_type": "stream",
     "text": [
      "0.8133187772925764\n",
      "0.8091603053435115\n"
     ]
    }
   ],
   "source": [
    "tree2 = DecisionTreeClassifier(max_depth=3,min_impurity_decrease=0.001)\n",
    "tree2.fit(train_scaled,train_target)\n",
    "print(tree2.score(train_scaled,train_target))\n",
    "print(tree2.score(test_scaled,test_target))"
   ]
  },
  {
   "cell_type": "code",
   "execution_count": 1462,
   "metadata": {},
   "outputs": [
    {
     "data": {
      "text/plain": [
       "[Text(0.5, 0.875, 'x[1] <= -0.241\\ngini = 0.474\\nsamples = 916\\nvalue = [563, 353]'),\n",
       " Text(0.25, 0.625, 'x[7] <= 0.029\\ngini = 0.267\\nsamples = 523\\nvalue = [440, 83]'),\n",
       " Text(0.125, 0.375, 'x[3] <= -0.287\\ngini = 0.427\\nsamples = 94\\nvalue = [65, 29]'),\n",
       " Text(0.0625, 0.125, 'gini = 0.0\\nsamples = 12\\nvalue = [12, 0]'),\n",
       " Text(0.1875, 0.125, 'gini = 0.457\\nsamples = 82\\nvalue = [53, 29]'),\n",
       " Text(0.375, 0.375, 'x[3] <= 0.871\\ngini = 0.22\\nsamples = 429\\nvalue = [375.0, 54.0]'),\n",
       " Text(0.3125, 0.125, 'gini = 0.24\\nsamples = 372\\nvalue = [320.0, 52.0]'),\n",
       " Text(0.4375, 0.125, 'gini = 0.068\\nsamples = 57\\nvalue = [55, 2]'),\n",
       " Text(0.75, 0.625, 'x[0] <= 0.246\\ngini = 0.43\\nsamples = 393\\nvalue = [123.0, 270.0]'),\n",
       " Text(0.625, 0.375, 'x[1] <= 2.531\\ngini = 0.217\\nsamples = 210\\nvalue = [26, 184]'),\n",
       " Text(0.5625, 0.125, 'gini = 0.147\\nsamples = 188\\nvalue = [15, 173]'),\n",
       " Text(0.6875, 0.125, 'gini = 0.5\\nsamples = 22\\nvalue = [11, 11]'),\n",
       " Text(0.875, 0.375, 'x[6] <= -0.194\\ngini = 0.498\\nsamples = 183\\nvalue = [97, 86]'),\n",
       " Text(0.8125, 0.125, 'gini = 0.486\\nsamples = 146\\nvalue = [61, 85]'),\n",
       " Text(0.9375, 0.125, 'gini = 0.053\\nsamples = 37\\nvalue = [36, 1]')]"
      ]
     },
     "execution_count": 1462,
     "metadata": {},
     "output_type": "execute_result"
    },
    {
     "data": {
      "image/png": "[encoded data removed]",
      "text/plain": [
       "<Figure size 1000x1000 with 1 Axes>"
      ]
     },
     "metadata": {},
     "output_type": "display_data"
    }
   ],
   "source": [
    "from sklearn.tree import plot_tree\n",
    "plt.figure(figsize=(10,10))\n",
    "plot_tree(tree2,filled=True)"
   ]
  }
 ],
 "metadata": {
  "kernelspec": {
   "display_name": "Python 3",
   "language": "python",
   "name": "python3"
  },
  "language_info": {
   "codemirror_mode": {
    "name": "ipython",
    "version": 3
   },
   "file_extension": ".py",
   "mimetype": "text/x-python",
   "name": "python",
   "nbconvert_exporter": "python",
   "pygments_lexer": "ipython3",
   "version": "3.12.0"
  }
 },
 "nbformat": 4,
 "nbformat_minor": 2
}
